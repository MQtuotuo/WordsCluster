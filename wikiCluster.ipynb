{
 "cells": [
  {
   "cell_type": "code",
   "execution_count": 1,
   "metadata": {
    "collapsed": true
   },
   "outputs": [],
   "source": [
    "import wikipediaapi\n",
    "from __future__ import division\n",
    "from sklearn.cluster import KMeans\n",
    "from numbers import Number\n",
    "from pandas import DataFrame\n",
    "import sys, codecs, numpy\n",
    "import numpy as np\n",
    "import argparse\n",
    "import logging\n",
    "import time\n",
    "from gensim.models import Word2Vec\n",
    "from gensim.models import KeyedVectors"
   ]
  },
  {
   "cell_type": "code",
   "execution_count": 2,
   "metadata": {
    "collapsed": true
   },
   "outputs": [],
   "source": [
    "wiki_wiki = wikipediaapi.Wikipedia('en')\n",
    "page = wiki_wiki.page('Berlin')"
   ]
  },
  {
   "cell_type": "code",
   "execution_count": 3,
   "metadata": {
    "collapsed": true
   },
   "outputs": [],
   "source": [
    "def print_sections(sections, level=0):\n",
    "        for s in sections:\n",
    "                print(\"%s: %s - %s\" % (\"*\" * (level + 1), s.title, s.text[0:40]))\n",
    "                print_sections(s.sections, level + 1)"
   ]
  },
  {
   "cell_type": "code",
   "execution_count": 4,
   "metadata": {},
   "outputs": [
    {
     "name": "stdout",
     "output_type": "stream",
     "text": [
      "*: History - \n",
      "**: Etymology - Berlin lies in northeastern Germany, eas\n",
      "**: 12th to 16th centuries - The earliest evidence of settlements in \n",
      "**: 17th to 19th centuries - The Thirty Years' War between 1618 and 1\n",
      "**: 20th to 21st centuries - In the early 20th century, Berlin had be\n",
      "*: Geography - \n",
      "**: Topography - Berlin is situated in northeastern Germa\n",
      "**: Climate - Berlin has a Maritime temperate climate \n",
      "**: Cityscape - Berlin's history has left the city with \n",
      "**: Architecture - The Fernsehturm (TV tower) at Alexanderp\n",
      "*: Demographics - On 30 June 2017 the city-state of Berlin\n",
      "**: Nationalities - National and international migration int\n",
      "**: Languages - German is the official and predominant s\n",
      "**: Religion - More than 60% of Berlin residents have n\n",
      "*: Government - \n",
      "**: City state - Since the reunification on 3 October 199\n",
      "**: Boroughs - Berlin is subdivided into 12 boroughs or\n",
      "**: Twin towns – sister cities - Berlin maintains official partnerships w\n",
      "**: Capital city - Berlin is the capital of the Federal Rep\n",
      "*: Economy - In 2015 the nominal GDP of the citystate\n",
      "**: Companies - Many German and international companies \n",
      "**: Tourism and conventions - Berlin had 788 hotels with 134,399 beds \n",
      "**: Creative industries - The creative arts and entertainment busi\n",
      "**: Media - Berlin is home to numerous magazine, new\n",
      "*: Infrastructure - \n",
      "**: Transport - Road\n",
      "\n",
      "Berlin's transport infrastructure \n",
      "**: Energy - Berlin's two largest energy provider for\n",
      "**: Health - Berlin has a long history of discoveries\n",
      "**: Telecommunication - The digital television standard in Berli\n",
      "*: Education - Berlin has 878 schools that teach 340,65\n",
      "**: Higher education - The Berlin-Brandenburg capital region is\n",
      "**: Research - The city has a high density of internati\n",
      "*: Culture - Berlin is known for its numerous cultura\n",
      "**: Galleries and museums - As of 2011 Berlin is home to 138 museums\n",
      "**: Nightlife and festivals - Berlin's nightlife has been celebrated a\n",
      "**: Performing arts - Berlin is home to 44 theaters and stages\n",
      "**: Cuisine - The cuisine and culinary offerings of Be\n",
      "**: Recreation - Zoologischer Garten Berlin, the older of\n",
      "**: Sports - Berlin has established a high-profile as\n",
      "*: See also - \n",
      "*: Notes - \n",
      "*: References - Chandler, Tertius (1987). Four Thousand \n",
      "*: External links - \n",
      "Berlin.de – Official website\n",
      " Geographi\n"
     ]
    }
   ],
   "source": [
    "print_sections(page.sections)"
   ]
  },
  {
   "cell_type": "code",
   "execution_count": 5,
   "metadata": {},
   "outputs": [
    {
     "data": {
      "text/plain": [
       "['History',\n",
       " 'Geography',\n",
       " 'Demographics',\n",
       " 'Government',\n",
       " 'Economy',\n",
       " 'Infrastructure',\n",
       " 'Education',\n",
       " 'Culture',\n",
       " 'See also',\n",
       " 'Notes',\n",
       " 'References',\n",
       " 'External links']"
      ]
     },
     "execution_count": 5,
     "metadata": {},
     "output_type": "execute_result"
    }
   ],
   "source": [
    "section_title=[]\n",
    "for s in page.sections:\n",
    "    section_title.append(s.title)\n",
    "section_title"
   ]
  },
  {
   "cell_type": "code",
   "execution_count": 6,
   "metadata": {},
   "outputs": [
    {
     "name": "stdout",
     "output_type": "stream",
     "text": [
      "Etymology\n",
      "Berlin lies in northeastern Germany, east of the river Elbe and its tributary (Saxon/Thuringian) Saale, which once constituted the eastern border of the Frankish Realm. While the Frankish Realm was primarily inhabited by Germanic tribes like the Franks and the Saxons, the regions east of the border rivers were inhabited by Slavic tribes. This is why most of the cities and villages in northeastern Germany have Slavic-derived names (Germania Slavica). Typical German place name endings of Slavic origin are -ow, -itz, -itzsch and -in. The name Berlin has its roots in the language of West Slavic inhabitants of the area of today's Berlin, and may be related to the Old Polabian stem berl-/birl- (\"swamp\"). There are many boroughs of Slavic origin in the city: Berlin-Karow, Berlin-Malchow, Berlin-Pankow, Berlin-Spandau (earlier: Spandow), Berlin-Gatow, Berlin-Kladow, Berlin-Steglitz, Berlin-Lankwitz, Berlin-Britz, Berlin-Buckow, Berlin-Rudow, Berlin-Alt-Treptow, Berlin-Schmöckwitz, Berlin-Marzahn, Berlin-Buch, and Berlin-Köpenick. Since the Ber- at the beginning sounds like the German word Bär (bear), a bear appears in the coat of arms of the city. It is therefore a canting arm.\n",
      "##################################################\n",
      "12th to 16th centuries\n",
      "The earliest evidence of settlements in the area of today's Berlin are a wooden beam dated from approximately 1192, and remnants of a house foundation dated to 1174, found in excavations in Berlin Mitte. The first written records of towns in the area of present-day Berlin date from the late 12th century. Spandau is first mentioned in 1197 and Köpenick in 1209, although these areas did not join Berlin until 1920. The central part of Berlin can be traced back to two towns. Cölln on the Fischerinsel is first mentioned in a 1237 document, and Berlin, across the Spree in what is now called the Nikolaiviertel, is referenced in a document from 1244. 1237 is considered the founding date of the city. The two towns over time formed close economic and social ties, and profited from the staple right on the two important trade routes Via Imperii and from Bruges to Novgorod. In 1307, they formed an alliance with a common external policy, their internal administrations still being separated.\n",
      "In 1415, Frederick I became the elector of the Margraviate of Brandenburg, which he ruled until 1440. During the 15th century, his successors established Berlin-Cölln as capital of the margraviate, and subsequent members of the Hohenzollern family ruled in Berlin until 1918, first as electors of Brandenburg, then as kings of Prussia, and eventually as German emperors. In 1443, Frederick II Irontooth started the construction of a new royal palace in the twin city Berlin-Cölln. The protests of the town citizens against the building culminated in 1448, in the \"Berlin Indignation\" (\"Berliner Unwille\"). This protest was not successful and the citizenry lost many of its political and economic privileges. After the royal palace was finished in 1451, it gradually came into use. From 1470, with the new elector Albrecht III Achilles, Berlin-Cölln became the new royal residence. Officially, the Berlin-Cölln palace became permanent residence of the Brandenburg electors of the Hohenzollerns from 1486, when John Cicero came to power. Berlin-Cölln, however, had to give up its status as a free Hanseatic city. In 1539, the electors and the city officially became Lutheran.\n",
      "##################################################\n",
      "17th to 19th centuries\n",
      "The Thirty Years' War between 1618 and 1648 devastated Berlin. One third of its houses were damaged or destroyed, and the city lost half of its population. Frederick William, known as the \"Great Elector\", who had succeeded his father George William as ruler in 1640, initiated a policy of promoting immigration and religious tolerance. With the Edict of Potsdam in 1685, Frederick William offered asylum to the French Huguenots. By 1700, approximately 30 percent of Berlin's residents were French, because of the Huguenot immigration. Many other immigrants came from Bohemia, Poland, and Salzburg.\n",
      "\n",
      "Since 1618, the Margraviate of Brandenburg had been in personal union with the Duchy of Prussia. In 1701, the dual state formed the Kingdom of Prussia, as Frederick III, Elector of Brandenburg, crowned himself as king Frederick I in Prussia. Berlin became the capital of the new Kingdom, replacing Königsberg. This was a successful attempt to centralise the capital in the very far-flung state, and it was the first time the city began to grow. In 1709, Berlin merged with the four cities of Cölln, Friedrichswerder, Friedrichstadt and Dorotheenstadt under the name Berlin, \"Haupt- und Residenzstadt Berlin\".\n",
      "In 1740, Frederick II, known as Frederick the Great (1740–1786), came to power. Under the rule of Frederick II, Berlin became a center of the Enlightenment, but also, was briefly occupied during the Seven Years' War by the Russian army. Following France's victory in the War of the Fourth Coalition, Napoleon Bonaparte marched into Berlin in 1806, but granted self-government to the city. In 1815, the city became part of the new Province of Brandenburg.\n",
      "The Industrial Revolution transformed Berlin during the 19th century; the city's economy and population expanded dramatically, and it became the main railway hub and economic centre of Germany. Additional suburbs soon developed and increased the area and population of Berlin. In 1861, neighbouring suburbs including Wedding, Moabit and several others were incorporated into Berlin. In 1871, Berlin became capital of the newly founded German Empire. In 1881, it became a city district separate from Brandenburg.\n",
      "##################################################\n",
      "20th to 21st centuries\n",
      "In the early 20th century, Berlin had become a fertile ground for the German Expressionist movement. In fields such as architecture, painting and cinema new forms of artistic styles were invented. At the end of the First World War in 1918, a republic was proclaimed by Philipp Scheidemann at the Reichstag building. In 1920, the Greater Berlin Act incorporated dozens of suburban cities, villages and estates around Berlin into an expanded city. The act increased the area of Berlin from 66 to 883 km2 (25 to 341 sq mi). The population almost doubled and Berlin had a population of around four million. During the Weimar era, Berlin underwent political unrest due to economic uncertainties, but also became a renowned centre of the Roaring Twenties. The metropolis experienced its heyday as a major world capital and was known for its leadership roles in science, technology, arts, the humanities, city planning, film, higher education, government and industries. Albert Einstein rose to public prominence during his years in Berlin, being awarded the Nobel Prize for Physics in 1921.\n",
      "\n",
      "In 1933, Adolf Hitler and the Nazi Party came to power. NSDAP rule diminished Berlin's Jewish community from 160,000 (one-third of all Jews in the country) to about 80,000 as a result of emigration between 1933 and 1939. After Kristallnacht in 1938, thousands of the city's Jews were imprisoned in the nearby Sachsenhausen concentration camp. Starting in early 1943, many were shipped to death camps, such as Auschwitz. During World War II, large parts of Berlin were destroyed in the 1943–45 air raids and during the Battle of Berlin. Around 125,000 civilians were killed. After the end of the war in Europe in May 1945, Berlin received large numbers of refugees from the Eastern provinces. The victorious powers divided the city into four sectors, analogous to the occupation zones into which Germany was divided. The sectors of the Western Allies (the United States, the United Kingdom and France) formed West Berlin, while the Soviet sector formed East Berlin.\n",
      "\n",
      "All four Allies shared administrative responsibilities for Berlin. However, in 1948, when the Western Allies extended the currency reform in the Western zones of Germany to the three western sectors of Berlin, the Soviet Union imposed a blockade on the access routes to and from West Berlin, which lay entirely inside Soviet-controlled territory. The Berlin airlift, conducted by the three western Allies, overcame this blockade by supplying food and other supplies to the city from June 1948 to May 1949. In 1949, the Federal Republic of Germany was founded in West Germany and eventually included all of the American, British and French zones, excluding those three countries' zones in Berlin, while the Marxist-Leninist German Democratic Republic was proclaimed in East Germany. West Berlin officially remained an occupied city, but it politically was aligned with the Federal Republic of Germany despite West Berlin's geographic isolation. Airline service to West Berlin was granted only to American, British and French airlines.\n",
      "\n",
      "The founding of the two German states increased Cold War tensions. West Berlin was surrounded by East German territory, and East Germany proclaimed the Eastern part as its capital, a move that was not recognised by the western powers. East Berlin included most of the historic centre of the city. The West German government established itself in Bonn. In 1961, East Germany began the building of the Berlin Wall between East and West Berlin, and events escalated to a tank standoff at Checkpoint Charlie. West Berlin was now de facto a part of West Germany with a unique legal status, while East Berlin was de facto a part of East Germany. John F. Kennedy gave his \"Ich bin ein Berliner\" speech in 1963, underlining the US support for the Western part of the city. Berlin was completely divided. Although it was possible for Westerners to pass to the other side through strictly controlled checkpoints, for most Easterners travel to West Berlin or West Germany was prohibited by the government of East Germany. In 1971, a Four-Power agreement guaranteed access to and from West Berlin by car or train through East Germany.\n",
      "In 1989, with the end of the Cold War and pressure from the East German population, the Berlin Wall fell on 9 November and was subsequently mostly demolished. Today, the East Side Gallery preserves a large portion of the wall. On 3 October 1990, the two parts of Germany were reunified as the Federal Republic of Germany and Berlin again became the official German capital. In 1991, the German Parliament, the Bundestag, voted to move the seat of the German capital from Bonn to Berlin, which was completed in 1999. On 18 June 1994, soldiers from the United States, France and Britain marched in a parade which was part of the ceremonies to mark the final withdrawal of foreign troops allowing a reunified Berlin. Berlin's 2001 administrative reform merged several districts. The number of boroughs was reduced from 23 to 12.\n",
      "In 2006, the FIFA World Cup Final was held in Berlin.\n",
      "In a 2016 terrorist attack linked to ISIL, a truck was deliberately driven into the Christmas market next to the Kaiser Wilhelm Memorial Church, leaving 12 people dead and 56 others injured.\n",
      "##################################################\n"
     ]
    }
   ],
   "source": [
    "index = section_title.index('History')\n",
    "for sub in page.sections[index].sections:\n",
    "    print(sub.title)\n",
    "    print(sub.text)\n",
    "    print('#'*50)"
   ]
  },
  {
   "cell_type": "code",
   "execution_count": 7,
   "metadata": {},
   "outputs": [
    {
     "name": "stdout",
     "output_type": "stream",
     "text": [
      "Load word2vec model ... finished in 59.17 sec.\n",
      "#words = 3000000, vector size = 300\n"
     ]
    }
   ],
   "source": [
    "start = time.time()\n",
    "print(\"Load word2vec model ... \", end=\"\", flush=True)\n",
    "model_path='data/GoogleNews-vectors-negative300.bin'\n",
    "w2v_model = KeyedVectors.load_word2vec_format(model_path, binary=bool(1))\n",
    "print(\"finished in {:.2f} sec.\".format(time.time() - start), flush=True)\n",
    "word_vectors = w2v_model.wv.syn0\n",
    "n_words = word_vectors.shape[0]\n",
    "vec_size = word_vectors.shape[1]\n",
    "print(\"#words = {0}, vector size = {1}\".format(n_words, vec_size))"
   ]
  },
  {
   "cell_type": "code",
   "execution_count": 8,
   "metadata": {
    "collapsed": true
   },
   "outputs": [],
   "source": [
    "# get the labels, and vectors for each label\n",
    "array=[]\n",
    "with open('data/all_predicate.txt', 'r') as myfile:\n",
    "    array=[]\n",
    "    for line in myfile:\n",
    "        *others, last = line.split('/')\n",
    "        last=last.rstrip('\\n') \n",
    "        array.append(last)\n",
    "        \n",
    "with open('data/all_predicate_entity.txt', mode='wt', encoding='utf-8') as myfile:\n",
    "    myfile.write('\\n'.join(array))\n"
   ]
  },
  {
   "cell_type": "code",
   "execution_count": 9,
   "metadata": {
    "collapsed": true
   },
   "outputs": [],
   "source": [
    "from utils import *\n",
    "from wordCluster import *"
   ]
  },
  {
   "cell_type": "code",
   "execution_count": 13,
   "metadata": {},
   "outputs": [
    {
     "name": "stdout",
     "output_type": "stream",
     "text": [
      "clustering in 52 groups \n",
      "\n"
     ]
    }
   ],
   "source": [
    "labels_array = []\n",
    "numpy_arrays = []\n",
    "for entity in array:\n",
    "    labels_array.append(entity)\n",
    "    sr = phrase_vector(entity, w2v_model)\n",
    "    numpy_arrays.append(np.array([float(i) for i in sr[0:]]) )\n",
    "numpy_arrays = np.array( numpy_arrays )\n",
    "\n",
    "numOfCluster=52\n",
    "print(\"clustering in {} groups \\n\".format(numOfCluster))\n",
    "kmeans_model = KMeans(init='k-means++', n_clusters=numOfCluster, n_init=10)\n",
    "kmeans_model.fit(numpy_arrays)\n",
    "cluster_labels  = kmeans_model.labels_\n",
    "cluster_inertia   = kmeans_model.inertia_\n",
    "cluster_to_words  = find_word_clusters(labels_array, cluster_labels)\n"
   ]
  },
  {
   "cell_type": "code",
   "execution_count": 14,
   "metadata": {
    "collapsed": true
   },
   "outputs": [],
   "source": [
    "most_similar_words=[]\n",
    "for i in range(0, numOfCluster):\n",
    "    #print(i)\n",
    "    model_word_vector = np.array(kmeans_model.cluster_centers_[i], dtype='f')\n",
    "    similar_word = w2v_model.most_similar( [ model_word_vector ], [], topn=1)[0][0]\n",
    "    \n",
    "    most_similar_words.append(similar_word)"
   ]
  },
  {
   "cell_type": "code",
   "execution_count": 16,
   "metadata": {},
   "outputs": [
    {
     "name": "stdout",
     "output_type": "stream",
     "text": [
      "instrument\n",
      "['instrument']\n",
      "\n",
      "\n",
      "league\n",
      "['AmericanFootballCoach', 'AmericanFootballLeague', 'AmericanFootballPlayer', 'AmericanFootballTeam', 'AustralianFootballLeague', 'AustralianFootballTeam', 'AustralianRulesFootballPlayer', 'AutoRacingLeague', 'BadmintonPlayer', 'BaseballLeague', 'BaseballPlayer', 'BaseballSeason', 'BaseballTeam', 'BasketballLeague', 'BasketballPlayer', 'BasketballTeam', 'BeachVolleyballPlayer', 'BowlingLeague', 'CanadianFootballLeague', 'CanadianFootballTeam', 'ChessPlayer', 'ClubMoss', 'CollegeCoach', 'CricketGround', 'CricketLeague', 'CricketTeam', 'CurlingLeague', 'CyclingTeam', 'DartsPlayer', 'FieldHockeyLeague', 'FootballLeagueSeason', 'FootballMatch', 'GaelicGamesPlayer', 'Game', 'GolfCourse', 'GolfLeague', 'GolfPlayer', 'GolfTournament', 'GridironFootballPlayer', 'HandballLeague', 'HandballPlayer', 'HandballTeam', 'HockeyTeam', 'IceHockeyLeague', 'IceHockeyPlayer', 'InlineHockeyLeague', 'LacrosseLeague', 'LacrossePlayer', 'MotorcycleRacingLeague', 'MotorsportSeason', 'NationalCollegiateAthleticAssociationAthlete', 'NationalFootballLeagueEvent', 'NationalFootballLeagueSeason', 'NetballPlayer', 'Olympics', 'PokerPlayer', 'PoloLeague', 'RugbyClub', 'RugbyLeague', 'RugbyPlayer', 'SnookerPlayer', 'SoccerClub', 'SoccerClubSeason', 'SoccerLeague', 'SoccerManager', 'SoccerPlayer', 'SoccerTournament', 'SoftballLeague', 'SpeedwayLeague', 'SpeedwayTeam', 'Sport', 'SportsEvent', 'SportsLeague', 'SportsTeam', 'SportsTeamMember', 'SquashPlayer', 'TableTennisPlayer', 'TennisLeague', 'TennisPlayer', 'TennisTournament', 'VideogamesLeague', 'VolleyballCoach', 'VolleyballLeague', 'VolleyballPlayer', 'WomensTennisAssociationTournament', 'WrestlingEvent', 'athletics', 'battingSide', 'championships', 'club', 'clubsRecordGoalscorer', 'coach', 'coachedTeam', 'coachingRecord', 'formerCoach', 'games', 'league', 'prospectLeague', 'sport', 'sportCountry', 'team', 'tennisSurfaceType']\n",
      "\n",
      "\n",
      "suffix\n",
      "['atcSuffix', 'dorlandsSuffix']\n",
      "\n",
      "\n",
      "elevation\n",
      "['capitalElevation', 'declination', 'elevation', 'elevationQuote', 'geology', 'governmentElevation', 'managementElevation', 'maximumElevation', 'minimumElevation', 'mouthElevation', 'seniority', 'sourceConfluenceElevation', 'sourceElevation']\n",
      "\n",
      "\n",
      "company\n",
      "['BusCompany', 'Company', 'InformationAppliance', 'LawFirm', 'Non-ProfitOrganisation', 'Plant', 'Royalty', 'Sales', 'Software', 'assets', 'builder', 'certification', 'chain', 'company', 'component', 'designCompany', 'developer', 'distributingCompany', 'distributor', 'employer', 'equipment', 'equity', 'grossDomesticProduct', 'industry', 'ingredient', 'license', 'licensee', 'management', 'manufacturer', 'netIncome', 'operatingIncome', 'operatingSystem', 'operator', 'owner', 'owningCompany', 'owningOrganisation', 'parent', 'parentCompany', 'parentOrganisation', 'plant', 'portfolio', 'producer', 'product', 'production', 'rebuilder', 'revenue', 'sales', 'subsidiary', 'supplies', 'tenant']\n",
      "\n",
      "\n",
      "By_Elise_Viebeck\n",
      "['Activity', 'AmusementParkAttraction', 'ArchitecturalStructure', 'Automobile', 'Bank', 'Baronet', 'Bay', 'BeautyQueen', 'BiologicalDatabase', 'Bone', 'Brain', 'Building', 'BusinessPerson', 'ChemicalCompound', 'Continent', 'Convention', 'Country', 'Criminal', 'CultivatedVariety', 'Drug', 'EthnicGroup', 'EurovisionSongContestEntry', 'Fashion', 'Gnetophytes', 'GovernmentAgency', 'GrandPrix', 'HistoricBuilding', 'HistoricPlace', 'Hospital', 'Hotel', 'Judge', 'Medician', 'MemberOfParliament', 'MilitaryConflict', 'MilitaryPerson', 'MilitaryStructure', 'MilitaryUnit', 'MixedMartialArtsEvent', 'MixedMartialArtsLeague', 'Mollusca', 'Nerve', 'Newspaper', 'Noble', 'OfficeHolder', 'OlympicEvent', 'OlympicResult', 'Organisation', 'Person', 'PersonFunction', 'Place', 'apoapsis', 'periapsis', 'PoliticalParty', 'PrimeMinister', 'Prison', 'PublicTransitSystem', 'ReligiousBuilding', 'ResearchProject', 'Settlement', 'ShoppingMall', 'Single', 'SiteOfSpecialScientificInterest', 'SnookerWorldRanking', 'Sound', 'SupremeCourtOfTheUnitedStatesCase', 'Theatre', 'TradeUnion', 'Vein', 'Venue', 'WaterRide', 'Weapon', 'WorldHeritageSite', 'WrittenWork', 'aSide', 'access', 'added', 'address', 'addressInRoad', 'administrativeCollectivity', 'agency', 'alliance', 'almaMater', 'apoapsis', 'appointer', 'architecturalStyle', 'areaQuote', 'arm', 'assembly', 'assetUnderManagement', 'associatedAct', 'associatedBand', 'associatedRocket', 'associationOfLocalGovernment', 'authority', 'automobilePlatform', 'availableSmartCard', 'bSide', 'barPassRate', 'basedOn', 'bedCount', 'bicycleInformation', 'binomialAuthority', 'birthPlace', 'block', 'bodyDiscovered', 'bodyStyle', 'brainInfoType', 'branchFrom', 'branchTo', 'building', 'callSign', 'canBaggageChecked', 'capital', 'capitalCountry', 'capitalPlace', 'capitalPosition', 'casSupplemental', 'category', 'causalties', 'ceeb', 'ceremonialCounty', 'chEBI', 'child', 'childOrganisation', 'chorusCharacterInPlay', 'cmykCoordinateBlack', 'cmykCoordinateCyanic', 'cmykCoordinateMagenta', 'cmykCoordinateYellow', 'coden', 'collection', 'combatant', 'commandStructure', 'committeeInLegislature', 'computingMedia', 'computingPlatform', 'conservationStatus', 'conservationStatusSystem', 'constructionMaterial', 'country', 'countryOrigin', 'countryWithFirstSatellite', 'crosses', 'cultivatedVariety', 'currentMember', 'currentPartner', 'currentStatus', 'currentlyUsedFor', 'damage', 'dcc', 'deathCause', 'deathPlace', 'demonym', 'department', 'derivative', 'dfE', 'discovered', 'dissolved', 'distanceToBelfast', 'distanceToCardiff', 'distanceToCharingCross', 'distanceToDouglas', 'distanceToDublin', 'distanceToEdinburgh', 'distanceToLondon', 'drainsFrom', 'drugbank', 'electionMajority', 'ensembl', 'entrezgene', 'established', 'ethnicGroup', 'ethnicGroupsInYear', 'europeanParliamentGroup', 'family', 'fansgroup', 'fate', 'federalState', 'floorCount', 'formerBandMember', 'foundationPlace', 'foundedBy', 'frazioni', 'frequentlyUpdated', 'frozen', 'fundedBy', 'governingBody', 'government', 'governmentCountry', 'governmentPlace', 'governmentPosition', 'governmentType', 'grayPage', 'graySubject', 'gridReference', 'ground', 'guest', 'hallOfFame', 'hasJunctionWith', 'hasVariant', 'headquarter', 'hgncid', 'homeArena', 'honours', 'house', 'hsvCoordinateHue', 'hsvCoordinateSaturation', 'hsvCoordinateValue', 'icd10', 'icd9', 'icdo', 'impactFactorAsOf', 'individualisedGnd', 'influenced', 'influencedBy', 'innervates', 'intercommunality', 'interest', 'internationally', 'isHandicappedAccessible', 'isPartOf', 'isPartOfAnatomicalStructure', 'isPartOfMilitaryConflict', 'isPartOfWineRegion', 'isPeerReviewed', 'isbn', 'issn', 'iucnCategory', 'jointCommunity', 'jstor', 'keyPerson', 'kingdom', 'knownFor', 'layingDown', 'lcc', 'lccn', 'leaderFunction', 'leaderParty', 'leftChild', 'legalForm', 'legislativePeriodName', 'localAuthority', 'locationCountry', 'locusSupplementaryData', 'longtype', 'lounge', 'mainInterest', 'mainOrgan', 'mainspan', 'maintainedBy', 'majorShrine', 'managementPlace', 'managementPosition', 'material', 'meaning', 'mediaType', 'mergedIntoParty', 'mgiid', 'militaryBranch', 'militaryCommand', 'militaryUnit', 'mission', 'mouthCountry', 'mouthPlace', 'mouthPosition', 'mouthRegion', 'movement', 'musicBy', 'muteCharacterInPlay', 'nationalTopographicSystemMapNumber', 'nerve', 'nobelLaureates', 'nonFictionSubject', 'notableIdea', 'notableWork', 'notes', 'numberOfPiersInWater', 'occupation', 'oclc', 'office', 'officerInCharge', 'officialSchoolColour', 'oilSystem', 'oldcode', 'omim', 'openAccessContent', 'operatedBy', 'order', 'orderInOffice', 'organSystem', 'organisation', 'orogeny', 'other', 'otherParty', 'otherServingLines', 'oversight', 'parkingInformation', 'part', 'participant', 'party', 'passengersUsedSystem', 'pastMember', 'pdb', 'periapsis', 'person', 'personFunction', 'place', 'placeOfBurial', 'politicalPartyInLegislature', 'politicalPartyOfLeader', 'position', 'precursor', 'previousInfrastructure', 'primeMinister', 'projectKeyword', 'projectObjective', 'projectParticipant', 'projectReferenceID', 'projectType', 'pubchem', 'publiclyAccessible', 'purpose', 'quote', 'refseq', 'refseqmrna', 'refseqprotein', 'regionServed', 'related', 'relatedMeanOfTransportation', 'relation', 'relative', 'religiousHead', 'religiousHeadLabel', 'reservations', 'residence', 'restingPlace', 'restingPlacePosition', 'result', 'rgbCoordinateBlue', 'rgbCoordinateGreen', 'rgbCoordinateRed', 'rightChild', 'role', 'service', 'sex', 'shareOfAudience', 'shareSource', 'sheading', 'shoots', 'showJudge', 'significantBuilding', 'significantDesign', 'significantProject', 'similar', 'sisterNewspaper', 'smiles', 'soundRecording', 'source', 'sourceConfluence', 'sourceConfluencePlace', 'sourceConfluencePosition', 'sourceConfluenceRegion', 'sourceConfluenceState', 'sourceCountry', 'sourcePlace', 'sourcePosition', 'sourceRegion', 'splitFromParty', 'spokenIn', 'sportGoverningBody', 'spouse', 'staff', 'state', 'stateDelegate', 'stateOfOrigin', 'subjectOfPlay', 'subsequentInfrastructure', 'subsequentWork', 'targetAirport', 'territory', 'testaverage', 'throwingSide', 'twinCountry', 'twinTown', 'uniprot', 'unitaryAuthority', 'unitedStatesNationalBridgeId', 'usedInWar', 'usingCountry', 'vein', 'veneratedIn', 'visitorStatisticsAsOf', 'voice', 'voiceType', 'winsAtNWIDE', 'youthWing']\n",
      "\n",
      "\n",
      "director\n",
      "['Ambassador', 'Architect', 'Engineer', 'President', 'academicAdvisor', 'administrator', 'architect', 'assistantPrincipal', 'associate', 'board', 'ceo', 'chairman', 'chairmanTitle', 'chairperson', 'chaplain', 'commander', 'committee', 'creativeDirector', 'custodian', 'deputy', 'director', 'doctoralAdvisor', 'engineer', 'executiveProducer', 'formerPartner', 'founder', 'fourthCommander', 'generalManager', 'head', 'headChef', 'headteacher', 'leader', 'lieutenant', 'manager', 'managerClub', 'nominee', 'notableCommander', 'partner', 'patron', 'predecessor', 'president', 'principal', 'principalEngineer', 'projectCoordinator', 'secondCommander', 'secretaryGeneral', 'specialist', 'spokesperson', 'successor', 'superintendent', 'thirdCommander', 'trustee', 'vicePresident', 'vicePrimeMinister', 'vicePrincipal', 'vicePrincipalLabel']\n",
      "\n",
      "\n",
      "area\n",
      "['AdministrativeRegion', 'floorArea', 'City', 'areaOfCatchment', 'density', 'surfaceArea', 'area', 'areaMetro', 'areaTotal', 'areaUrban', 'populationDensity', 'populationMetroDensity', 'populationUrbanDensity', 'ProtectedArea', 'Town', 'Village', 'administrativeDistrict', 'area', 'areaLand', 'areaMetro', 'areaOfCatchment', 'areaOfCatchmentQuote', 'areaOfSearch', 'areaRural', 'areaTotal', 'areaUrban', 'areaWater', 'arrondissement', 'beltwayCity', 'borough', 'canton', 'capitalRegion', 'city', 'cityType', 'councilArea', 'county', 'countySeat', 'density', 'district', 'floorArea', 'garrison', 'governmentRegion', 'hubAirport', 'jurisdiction', 'largestCity', 'lieutenancyArea', 'locatedInArea', 'locationCity', 'metropolitanBorough', 'municipality', 'nearestCity', 'neighboringMunicipality', 'percentageOfAreaWater', 'populationAsOf', 'populationDensity', 'populationMetro', 'populationMetroDensity', 'populationPlace', 'populationRural', 'populationTotal', 'populationUrban', 'populationUrbanDensity', 'principalArea', 'province', 'region', 'ruralMunicipality', 'subdivisions', 'subregion', 'surfaceArea', 'totalPopulation']\n",
      "\n",
      "\n",
      "river\n",
      "['Artery', 'BodyOfWater', 'Canal', 'Dam', 'Lake', 'Lymph', 'River', 'Sea', 'Stream', 'watershed', 'artery', 'dam', 'drainsTo', 'inflow', 'lake', 'leftTributary', 'lymph', 'outflow', 'rightTributary', 'river', 'riverBranch', 'riverBranchOf', 'riverMouth', 'watershed']\n",
      "\n",
      "\n",
      "mountain\n",
      "['Castle', 'Cave', 'Crater', 'Earthquake', 'Glacier', 'Mountain', 'MountainPass', 'MountainRange', 'SkiArea', 'Valley', 'Volcano', 'border', 'capitalMountain', 'governmentMountain', 'managementMountain', 'mountainRange', 'mouthMountain', 'parentMountainPeak', 'sourceConfluenceMountain', 'sourceMountain']\n",
      "\n",
      "\n",
      "island\n",
      "['Island', 'Lighthouse', 'archipelago', 'island', 'majorIsland']\n",
      "\n",
      "\n",
      "highest\n",
      "['currentRank', 'highestBreak', 'highestMountain', 'highestPlace', 'highestPosition', 'highestRank', 'highestRegion', 'highestState', 'largestSettlement', 'lowest', 'lowestMountain', 'lowestPlace', 'lowestPosition', 'lowestRegion', 'lowestState', 'militaryRank', 'nationalRanking', 'populationTotalRanking', 'ranking', 'rating']\n",
      "\n",
      "\n",
      "code\n",
      "['runtime', 'areaCode', 'code', 'colourHexCode', 'compiler', 'dressCode', 'fdaUniiCode', 'iataAirlineCode', 'icaoAirlineCode', 'inseeCode', 'iso6391Code', 'iso6392Code', 'iso6393Code', 'isoCodeRegion', 'municipalityCode', 'nutsCode', 'postalCode', 'runtime', 'schoolCode', 'uciCode']\n",
      "\n",
      "\n",
      "TEXOMA_Water\n",
      "['AnatomicalStructure', 'Colour', 'Constellation', 'background', 'binomial', 'colour', 'colourName', 'connotation', 'depictionDescription', 'description', 'ethnicity', 'eyeColor', 'faaLocationIdentifier', 'format', 'gender', 'hairColor', 'iataLocationIdentifier', 'icaoLocationIdentifier', 'identificationSymbol', 'ideology', 'layout', 'location', 'locationIdentifier', 'map', 'nationality', 'neighbourConstellations', 'origin', 'picture', 'pictureFormat', 'religion', 'routeTypeAbbreviation', 'stylisticOrigin', 'subtitle', 'symbol', 'synonym', 'thumbnail']\n",
      "\n",
      "\n",
      "fluid_viscosity\n",
      "['fuelCapacity', 'AutomobileEngine', 'maximumBoatBeam', 'originalMaximumBoatBeam', 'Device', 'Engine', 'cylinderBore', 'displacement', 'pistonStroke', 'powerOutput', 'torqueOutput', 'volume', 'Model', 'Muscle', 'averageSpeed', 'meanRadius', 'volume', 'lowerEarthOrbitPayload', 'fileSize', 'volume', 'discharge', 'dischargeAverage', 'maximumDischarge', 'minimumDischarge', 'absoluteMagnitude', 'ageRange', 'apparentMagnitude', 'approximateCalories', 'averageClassSize', 'averageDepth', 'averageDepthQuote', 'averageSpeed', 'blockAlloy', 'boiler', 'boilerPressure', 'bustSize', 'capacity', 'capacityFactor', 'circulation', 'comparable', 'complexity', 'compressionRatio', 'configuration', 'coolingSystem', 'cost', 'cylinderBore', 'cylinderCount', 'depth', 'detectionMethod', 'discharge', 'dischargeAverage', 'displacement', 'effectiveRadiatedPower', 'engine', 'engineType', 'escapeVelocity', 'fat', 'fileSize', 'frequency', 'frequencyOfPublication', 'fuelCapacity', 'fuelConsumption', 'fuelSystem', 'fuelType', 'gross', 'headAlloy', 'heightAboveAverageTerrain', 'hipSize', 'hybrid', 'imageSize', 'impactFactor', 'installedCapacity', 'loadLimit', 'lowerAge', 'lowerEarthOrbitPayload', 'maxTime', 'maximumBoatBeam', 'maximumDepth', 'maximumDepthQuote', 'maximumDischarge', 'meanRadius', 'militaryUnitSize', 'minimumDischarge', 'networth', 'nrhpType', 'originalMaximumBoatBeam', 'pistonStroke', 'powerOutput', 'powerType', 'primaryFuelType', 'ratio', 'rocketFunction', 'seatingCapacity', 'servingSize', 'shipBeam', 'shipDisplacement', 'shoeSize', 'speedLimit', 'strength', 'structuralSystem', 'teamSize', 'topSpeed', 'torqueOutput', 'type', 'typeOfElectrification', 'unitCost', 'upperAge', 'utcOffset', 'valvetrain', 'variantOf', 'volume', 'volumeQuote', 'waistSize', 'wavelength']\n",
      "\n",
      "\n",
      "name\n",
      "['GivenName', 'RecordLabel', 'Surname', 'Website', 'affiliation', 'alias', 'allegiance', 'birthName', 'brand', 'callsignMeaning', 'chairLabel', 'citizenship', 'commonName', 'disbanded', 'distributingLabel', 'domain', 'europeanAffiliation', 'flag', 'flagBearer', 'formerCallsign', 'formerName', 'headLabel', 'hometown', 'ingredientName', 'internationalAffiliation', 'isPartOfName', 'iupacName', 'leaderName', 'logo', 'longName', 'mascot', 'membership', 'meshName', 'motto', 'name', 'nameDay', 'nationalAffiliation', 'otherName', 'prominence', 'pseudonym', 'recordLabel', 'royalAnthem', 'signature', 'slogan', 'statisticLabel', 'status', 'teamName']\n",
      "\n",
      "\n",
      "editor\n",
      "['Economist', 'Entomologist', 'Historian', 'Journalist', 'Photographer', 'Publisher', 'Scientist', 'Writer', 'associateEditor', 'author', 'chiefEditor', 'curator', 'editor', 'editorTitle', 'illustrator', 'managingEditor', 'photographer', 'previousEditor', 'publisher', 'storyEditor', 'writer']\n",
      "\n",
      "\n",
      "aircraft\n",
      "['Aircraft', 'Airline', 'Airport', 'Rocket', 'Ship', 'aircraftAttack', 'aircraftBomber', 'aircraftElectronic', 'aircraftFighter', 'aircraftHelicopter', 'aircraftHelicopterAttack', 'aircraftHelicopterCargo', 'aircraftHelicopterMultirole', 'aircraftHelicopterObservation', 'aircraftHelicopterTransport', 'aircraftHelicopterUtility', 'aircraftInterceptor', 'aircraftPatrol', 'aircraftRecon', 'aircraftTrainer', 'aircraftTransport', 'homeport', 'maidenFlight', 'maidenFlightRocket', 'missions', 'orbitalFlights', 'suborbitalFlights', 'vehicle']\n",
      "\n",
      "\n",
      "id\n",
      "['bibsysId', 'bnfId', 'bpnId', 'cosparId', 'cpu', 'espnId', 'facilityId', 'ibdbId', 'id', 'imdbId', 'isniId', 'lccnId', 'mbaId', 'meshId', 'ndlId', 'nlaId', 'nssdcId', 'rkdArtistsId', 'selibrId', 'sudocId', 'tvComId', 'ulanId', 'viafId']\n",
      "\n",
      "\n",
      "horse\n",
      "['CyclingRace', 'HorseRace', 'HorseRider', 'HorseTrainer', 'Jockey', 'Motorcycle', 'MotorcycleRider', 'NascarDriver', 'RaceHorse', 'Racecourse', 'RacingDriver', 'SpeedwayRider', 'breeder', 'damsire', 'distanceLaps', 'grandsire', 'jockey', 'poleDriver', 'race', 'raceHorse', 'races', 'sire', 'trainer']\n",
      "\n",
      "\n",
      "temperature\n",
      "['maximumTemperature', 'meanTemperature', 'minimumTemperature', 'temperature', 'albedo', 'glycemicIndex', 'maximumTemperature', 'meanTemperature', 'minimumTemperature', 'servingTemperature', 'temperature']\n",
      "\n",
      "\n",
      "swimmer\n",
      "['AmateurBoxer', 'Athlete', 'Bodybuilder', 'Boxer', 'Canoeist', 'Cricketer', 'Curler', 'Cyclist', 'FigureSkater', 'Gymnast', 'Rower', 'Skater', 'Skier', 'SnookerChamp', 'SumoWrestler', 'Swimmer', 'Wrestler', 'bronzeMedalist', 'goldMedalist', 'silverMedalist']\n",
      "\n",
      "\n",
      "win\n",
      "['Award', 'FormulaOneRacer', 'FormulaOneTeam', 'Ligament', 'NCAATeamSeason', 'Play', 'Star', 'VideoGame', 'actScore', 'award', 'battle', 'battleHonours', 'bestFinish', 'bowlRecord', 'careerPrizeMoney', 'champion', 'championInDoubleFemale', 'championInDoubleMale', 'championInMixedDouble', 'championInSingleFemale', 'championInSingleMale', 'characterInPlay', 'crownDependency', 'debut', 'debutTeam', 'division', 'fastestDriver', 'fastestDriverCountry', 'fastestDriverTeam', 'fastestLap', 'field', 'firstDriver', 'firstDriverCountry', 'firstDriverTeam', 'firstGame', 'firstLeader', 'firstRace', 'firstWin', 'firstWinner', 'formerTeam', 'gameEngine', 'largestWin', 'lastRace', 'lastWin', 'leaderTitle', 'managerTitle', 'mostWins', 'nationalTeam', 'numberOfBronzeMedalsWon', 'numberOfGoldMedalsWon', 'numberOfSilverMedalsWon', 'opponent', 'otherWins', 'overallRecord', 'plays', 'podiums', 'poleDriverCountry', 'poleDriverTeam', 'prospectTeam', 'rankInFinalMedalCount', 'rankingWins', 'recentWinner', 'rival', 'runningMate', 'satScore', 'season', 'secondDriver', 'secondDriverCountry', 'secondLeader', 'secondPopularVote', 'secondTeam', 'settingOfPlay', 'sixthFormStudents', 'thirdDriver', 'thirdDriverCountry', 'thirdTeam', 'title', 'tournamentRecord', 'wins', 'winsAtAsia', 'winsAtAus', 'winsAtChallenges', 'winsAtChampionships', 'winsAtJapan', 'winsAtLET', 'winsAtLPGA', 'winsAtMajors', 'winsAtOtherTournaments', 'winsAtPGA', 'winsAtProTournaments', 'winsInEurope', 'worldChampionTitleYear', 'worstDefeat']\n",
      "\n",
      "\n",
      "width\n",
      "['width', 'diameter', 'width', 'diameter', 'width', 'diameter', 'width', 'widthQuote']\n",
      "\n",
      "\n",
      "asteroid\n",
      "['Asteroid', 'Astronaut', 'Galaxy', 'Planet', 'Spacecraft', 'orbits']\n",
      "\n",
      "\n",
      "protein\n",
      "['Enzyme', 'HumanGene', 'HumanGeneLocation', 'MouseGene', 'MouseGeneLocation', 'Protein', 'bioavailability', 'carbohydrate', 'chromosome', 'geneLocation', 'orthologousGene', 'protein']\n",
      "\n",
      "\n",
      "artist\n",
      "['Artist', 'ArtistDiscography', 'Artwork', 'ClassicalMusicArtist', 'ClassicalMusicComposition', 'FashionDesigner', 'MartialArtist', 'MusicFestival', 'MusicGenre', 'Musical', 'MusicalArtist', 'MusicalWork', 'Painter', 'Philosopher', 'Poem', 'Poet', 'abstract', 'animator', 'artist', 'associatedMusicalArtist', 'choreographer', 'composer', 'coverArtist', 'designer', 'formerChoreographer', 'gameArtist', 'literaryGenre', 'musicComposer', 'musicFusionGenre', 'musicSubgenre', 'musicalArtist']\n",
      "\n",
      "\n",
      "railway\n",
      "['Bridge', 'Locomotive', 'Monument', 'Park', 'RailwayLine', 'RailwayStation', 'RailwayTunnel', 'Road', 'RoadJunction', 'RoadTunnel', 'RollerCoaster', 'Skyscraper', 'Stadium', 'Train', 'Tunnel', 'WaterwayTunnel', 'bridgeCarries', 'highwaySystem', 'homeStadium', 'meetingRoad', 'poles', 'railGauge', 'railwayLineUsingTunnel', 'railwayPlatforms', 'railwayRollingStock', 'routeJunction', 'runwayDesignation', 'runwaySurface', 'servingRailwayLine', 'stadium', 'voltageOfElectrification', 'waterwayThroughTunnel']\n",
      "\n",
      "\n",
      "webcast\n",
      "['webcast']\n",
      "\n",
      "\n",
      "language\n",
      "['Language', 'ProgrammingLanguage', 'editing', 'language', 'languageFamily', 'languageRegulator', 'officialLanguage', 'originalLanguage', 'programmingLanguage', 'regionalLanguage', 'translator']\n",
      "\n",
      "\n",
      "date\n",
      "['acquirementDate', 'activeYearsEndDate', 'activeYearsStartDate', 'anniversary', 'argueDate', 'birthDate', 'buildingEndDate', 'buildingStartDate', 'canonizedDate', 'captureDate', 'certificationDate', 'christeningDate', 'closingDate', 'commissioningDate', 'completionDate', 'date', 'dateAct', 'dateCompleted', 'dateConstruction', 'dateOfAbandonment', 'dateOfBurial', 'dateUse', 'deathDate', 'decideDate', 'decommissioningDate', 'deliveryDate', 'demolitionDate', 'destructionDate', 'dissolutionDate', 'electionDate', 'electionDateLeader', 'endDate', 'extinctionDate', 'firstAirDate', 'firstLaunchDate', 'firstPublicationDate', 'floodingDate', 'foalDate', 'formationDate', 'foundingDate', 'introductionDate', 'lastAirDate', 'lastElectionDate', 'lastLaunchDate', 'lastPublicationDate', 'latestPreviewDate', 'latestReleaseDate', 'openingDate', 'orderDate', 'premiereDate', 'productionEndDate', 'productionStartDate', 'projectEndDate', 'projectStartDate', 'publicationDate', 'rebuildingDate', 'recommissioningDate', 'recordDate', 'releaseDate', 'releaseLocation', 'reopeningDate', 'restoreDate', 'shareDate', 'startDate', 'suppreddedDate']\n",
      "\n",
      "\n",
      "currency\n",
      "['Currency', 'currency']\n",
      "\n",
      "\n",
      "prefix\n",
      "['abbreviation', 'atcPrefix', 'dorlandsPrefix']\n",
      "\n",
      "\n",
      "weight\n",
      "['weight', 'weight', 'weight', 'weight', 'weight']\n",
      "\n",
      "\n",
      "presenter\n",
      "['Comedian', 'Presenter', 'presenter']\n",
      "\n",
      "\n",
      "movie\n",
      "['Actor', 'AdultActor', 'AnimangaCharacter', 'Book', 'ComedyGroup', 'Comic', 'ComicStrip', 'ComicsCharacter', 'ComicsCreator', 'FictionalCharacter', 'Film', 'FilmFestival', 'HollywoodCartoon', 'Murderer', 'MythologicalFigure', 'Novel', 'PlayboyPlaymate', 'ScreenWriter', 'SoapCharacter', 'VoiceActor', 'cinematography', 'closingFilm', 'creator', 'creatorOfDish', 'film', 'genre', 'mythology', 'narrator', 'openingFilm', 'portrayer', 'starring']\n",
      "\n",
      "\n",
      "species\n",
      "['Amphibian', 'Animal', 'Arachnid', 'Archaea', 'Bacteria', 'Bird', 'Conifer', 'Crustacean', 'Cycad', 'Disease', 'Embryology', 'Eukaryote', 'Fern', 'Fish', 'FloweringPlant', 'Fungus', 'Ginkgo', 'GreenAlga', 'Insect', 'Mammal', 'Moss', 'Reptile', 'Species', 'animal', 'biome', 'discoverer', 'genus', 'phylum', 'species']\n",
      "\n",
      "\n",
      "album\n",
      "['Album', 'Band', 'Guitarist', 'Song', 'album', 'anthem', 'band', 'bandMember', 'lyrics', 'musicalBand']\n",
      "\n",
      "\n",
      "mass\n",
      "['mass', 'mass', 'mass', 'mass']\n",
      "\n",
      "\n",
      "bishop\n",
      "['Cardinal', 'ChristianBishop', 'Cleric', 'Diocese', 'Monarch', 'Pope', 'Religious', 'Saint', 'beatifiedBy', 'beatifiedDate', 'beatifiedPlace', 'canonizedBy', 'canonizedPlace', 'denomination', 'monarch', 'parish', 'pastor', 'saint']\n",
      "\n",
      "\n",
      "magazine\n",
      "['Magazine', 'magazine']\n",
      "\n",
      "\n",
      "%_#F########_7v.jsn\n",
      "['timeInSpace', 'Event', 'course', 'Holiday', 'LaunchPad', 'orbitalPeriod', 'SolarEclipse', 'SpaceShuttle', 'timeInSpace', 'TimePeriod', 'Year', 'YearInSpaceflight', 'activeYears', 'activeYearsEndYear', 'activeYearsStartYear', 'atcSupplemental', 'averageAnnualGeneration', 'billed', 'birthYear', 'budget', 'buildingEndYear', 'buildingStartYear', 'censusYear', 'centuryBreaks', 'closed', 'closingYear', 'contractAward', 'countryWithFirstAstronaut', 'countryWithFirstSatelliteLaunched', 'countryWithFirstSpaceflight', 'course', 'currentProduction', 'currentRecord', 'currentSeason', 'day', 'daylightSavingTimeZone', 'deathYear', 'demolitionYear', 'destination', 'dissolutionYear', 'draft', 'draftPick', 'draftRound', 'draftTeam', 'draftYear', 'endPoint', 'endingTheme', 'epoch', 'era', 'eruptionYear', 'event', 'extinctionYear', 'failedLaunches', 'fareZone', 'feastDay', 'fees', 'finalFlight', 'finalPublicationYear', 'firstAppearance', 'firstAscentPerson', 'firstAscentYear', 'firstFlight', 'firstFlightEndDate', 'firstFlightStartDate', 'firstLaunchRocket', 'firstPopularVote', 'firstPublicationYear', 'followingEvent', 'formationYear', 'foundingYear', 'geologicPeriod', 'introduced', 'lastAppearance', 'lastFlight', 'lastFlightEndDate', 'lastFlightStartDate', 'lastLaunchRocket', 'lastPosition', 'latestPreviewVersion', 'latestReleaseVersion', 'launchSite', 'launches', 'maidenVoyage', 'march', 'minTime', 'modelEndYear', 'modelStartYear', 'month', 'namedAfter', 'nextEvent', 'openingTheme', 'openingYear', 'orbitalPeriod', 'originalEndPoint', 'originalStartPoint', 'partialFailedLaunches', 'passengersPerDay', 'passengersPerYear', 'premierePlace', 'premiereYear', 'previousEvent', 'previousWork', 'productionEndYear', 'productionStartYear', 'programCost', 'programmeFormat', 'projectBudgetFunding', 'projectBudgetTotal', 'promotion', 'rebuildingYear', 'recordedIn', 'reopeningYear', 'reportingMark', 'retired', 'retiredRocket', 'review', 'rocketStages', 'rotationPeriod', 'routeEnd', 'routeEndDirection', 'routeEndLocation', 'routeStart', 'routeStartDirection', 'routeStartLocation', 'salary', 'selection', 'series', 'serviceEndYear', 'serviceStartYear', 'shipDraft', 'shipLaunch', 'spike', 'startPoint', 'statisticYear', 'successfulLaunches', 'summerAppearances', 'supplementalDraftRound', 'supplementalDraftYear', 'termPeriod', 'time', 'timeInSpace', 'timeZone', 'totalLaunches', 'training', 'undraftedYear', 'vehiclesPerDay', 'visitorsPerYear', 'visitorsPercentageChange', 'whaDraft', 'whaDraftTeam', 'winterAppearances', 'year', 'yearOfConstruction', 'yearOfElectrification']\n",
      "\n",
      "\n",
      "wheelbase\n",
      "['wheelbase', 'wheelbase']\n",
      "\n",
      "\n",
      "length\n",
      "['maximumBoatLength', 'originalMaximumBoatLength', 'length', 'distance', 'length', 'shoreLength', 'length', 'length', 'distance', 'duration', 'length', 'lengthQuote', 'lengthReference', 'lineLength', 'maximumBoatLength', 'originalMaximumBoatLength', 'runwayLength', 'shoreLength', 'trackLength']\n",
      "\n",
      "\n",
      "number\n",
      "['brainInfoNumber', 'casNumber', 'casualties', 'ecNumber', 'episodeNumber', 'meshNumber', 'nrhpReferenceNumber', 'number', 'numberBuilt', 'numberOfClassrooms', 'numberOfCompetitors', 'numberOfEmployees', 'numberOfEpisodes', 'numberOfFilms', 'numberOfGoals', 'numberOfIslands', 'numberOfLanes', 'numberOfLawyers', 'numberOfLines', 'numberOfLocations', 'numberOfMembers', 'numberOfOffices', 'numberOfOfficials', 'numberOfPads', 'numberOfPages', 'numberOfParkingSpaces', 'numberOfParticipatingAthletes', 'numberOfParticipatingNations', 'numberOfPlatformLevels', 'numberOfRestaurants', 'numberOfRooms', 'numberOfSeasons', 'numberOfSpans', 'numberOfSports', 'numberOfStaff', 'numberOfStations', 'numberOfStudents', 'numberOfSuites', 'numberOfTeams', 'numberOfTracks', 'numberOfVehicles', 'numberOfVisitors', 'numberOfVisitorsAsOf', 'numberOfVolumes', 'numberOfVolunteers', 'routeNumber', 'schoolNumber', 'seasonNumber', 'serviceNumber', 'shoeNumber', 'squadNumber', 'statisticValue', 'toll', 'totalTravellers', 'trackNumber']\n",
      "\n",
      "\n",
      "wine\n",
      "['Beverage', 'Brewery', 'Cheese', 'Chef', 'Food', 'Garden', 'Grape', 'Mineral', 'Restaurant', 'WineRegion', 'Winery', 'chef', 'cuisine', 'growingGrape', 'notableWine', 'numberOfVineyards', 'numberOfWineries', 'varietals', 'wineProduced', 'wineRegion']\n",
      "\n",
      "\n",
      "governor\n",
      "['Congressman', 'Election', 'Governor', 'Legislature', 'Mayor', 'Politician', 'Senator', 'congressionalDistrict', 'governor', 'governorGeneral', 'incumbent', 'mayor', 'speaker', 'taoiseach']\n",
      "\n",
      "\n",
      "broadcast\n",
      "['ArtificialSatellite', 'BroadcastNetwork', 'CareerStation', 'PowerStation', 'RadioHost', 'RadioProgram', 'RadioStation', 'SpaceStation', 'Station', 'TelevisionEpisode', 'TelevisionHost', 'TelevisionSeason', 'TelevisionShow', 'TelevisionStation', 'agencyStationCode', 'analogChannel', 'broadcastArea', 'broadcastNetwork', 'broadcastRepeater', 'broadcastStationClass', 'broadcastTranslator', 'careerStation', 'channel', 'crews', 'digitalChannel', 'digitalSubChannel', 'formerBroadcastNetwork', 'formerChannel', 'network', 'otherChannel', 'show', 'sisterStation', 'stationStructure', 'televisionSeries', 'timeshiftChannel', 'transmission', 'virtualChannel']\n",
      "\n",
      "\n",
      "university\n",
      "['AcademicJournal', 'College', 'EducationalInstitution', 'Library', 'Museum', 'School', 'campusSize', 'University', 'academicDiscipline', 'alumni', 'campus', 'campusSize', 'campusType', 'class', 'classes', 'college', 'discipline', 'doctoralStudent', 'education', 'endowment', 'facultySize', 'formerHighschool', 'grades', 'highschool', 'institution', 'museum', 'notableStudent', 'numberOfDoctoralStudents', 'numberOfGraduateStudents', 'numberOfPostgraduateStudents', 'numberOfUndergraduateStudents', 'offeredClasses', 'philosophicalSchool', 'profession', 'school', 'schoolBoard', 'schoolPatron', 'sisterCollege', 'teachingStaff', 'tuition', 'university']\n",
      "\n",
      "\n",
      "chancellor\n",
      "['Chancellor', 'chancellor', 'dean', 'provost', 'rector', 'viceChancellor']\n",
      "\n",
      "\n",
      "manga\n",
      "['Anime', 'Manga']\n",
      "\n",
      "\n",
      "height\n",
      "['height', 'height', 'height', 'height', 'height']\n",
      "\n",
      "\n"
     ]
    }
   ],
   "source": [
    "for c in range(0, numOfCluster):\n",
    "    print(most_similar_words[c])\n",
    "    print(cluster_to_words[c])\n",
    "    print(\"\\n\")"
   ]
  },
  {
   "cell_type": "code",
   "execution_count": 17,
   "metadata": {},
   "outputs": [
    {
     "name": "stderr",
     "output_type": "stream",
     "text": [
      "/Library/Frameworks/Python.framework/Versions/3.6/lib/python3.6/site-packages/sklearn/utils/validation.py:395: DeprecationWarning: Passing 1d arrays as data is deprecated in 0.17 and will raise ValueError in 0.19. Reshape your data either using X.reshape(-1, 1) if your data has a single feature or X.reshape(1, -1) if it contains a single sample.\n",
      "  DeprecationWarning)\n"
     ]
    },
    {
     "data": {
      "text/plain": [
       "'university'"
      ]
     },
     "execution_count": 17,
     "metadata": {},
     "output_type": "execute_result"
    }
   ],
   "source": [
    "question = 'where do I study'\n",
    "keyword='education'\n",
    "word_vector=phrase_vector(keyword, w2v_model)\n",
    "label = kmeans_model.predict(word_vector)[0]\n",
    "clusterWord = most_similar_words[label]\n",
    "clusterWord"
   ]
  },
  {
   "cell_type": "code",
   "execution_count": 347,
   "metadata": {
    "collapsed": true
   },
   "outputs": [],
   "source": [
    "page = wiki_wiki.page('Bonn')\n",
    "#print_sections(page.sections)"
   ]
  },
  {
   "cell_type": "code",
   "execution_count": 342,
   "metadata": {
    "collapsed": true
   },
   "outputs": [],
   "source": [
    "def getTopSection(sections, clusterWord):\n",
    "    section_title=[]\n",
    "    for s in sections:\n",
    "        section_title.append([s.title, phrase_similarity(clusterWord, s.title)])\n",
    "    simi_list = [i[1] for i in section_title]\n",
    "    index = simi_list.index(max(simi_list))\n",
    "    selected_section = sections[index]\n",
    "    text = sections[index].text\n",
    "    return selected_section, text"
   ]
  },
  {
   "cell_type": "code",
   "execution_count": 350,
   "metadata": {},
   "outputs": [
    {
     "name": "stdout",
     "output_type": "stream",
     "text": [
      "Education section has 1 subsections\n",
      "==================================================\n",
      "summary for page: \n",
      "The Federal City of Bonn (German pronunciation: [ˈbɔn] ( listen)) is a city on the banks of the Rhine in the German state of North Rhine-Westphalia, with a population of over 300,000. About 24 km (15 mi) south-southeast of Cologne, Bonn is in the southernmost part of the Rhine-Ruhr region, Germany's largest metropolitan area, with over 11 million inhabitants.\n",
      "Because of a political compromise following German reunification, the German state maintains a substantial presence in Bonn. Bonn is the secondary seat of the President, the Chancellor, the Bundesrat and the primary seat of six federal government ministries and twenty federal authorities. The unique title of Federal City (German: Bundesstadt) reflects its important political status within Germany.\n",
      "Founded in the 1st century BC as a Roman settlement, Bonn is one of Germany's oldest cities. From 1597 to 1794, Bonn was the capital of the Electorate of Cologne, and residence of the Archbishops and Prince-electors of Cologne. Composer Ludwig van Beethoven was born in Bonn in 1770. From 1949 to 1990, Bonn was the provisional capital (\"temporary seat of the Federal institutions\") of West Germany, and Germany's present constitution, the Basic Law, was declared in the city in 1949. From 1990 to 1999, Bonn served as the seat of government – but no longer capital – of reunited Germany.\n",
      "The headquarters of Deutsche Post DHL and Deutsche Telekom, both DAX-listed corporations, are in Bonn. The city is home to the University of Bonn and a total of 20 United Nations institutions, including headquarters for Secretariat of the UN Framework Convention Climate Change (UNFCCC), the Secretariat of the UN Convention to Combat Desertification (UNCCD), and the UN Volunteers programme.\n",
      "--------------------------------------------------\n",
      "summary for subsection:  Education\n",
      "The Rheinische Friedrich Wilhelms Universität Bonn (University of Bonn) is one of the largest universities in Germany. It is also the location of the German research institute Deutsche Forschungsgemeinschaft (DFG) offices and of the German Academic Exchange Service (Deutscher Akademischer Austauschdienst – DAAD).\n"
     ]
    }
   ],
   "source": [
    "selected_section, text_section =getTopSection(page.sections, clusterWord)\n",
    "print(selected_section.title, \"section has\", len(selected_section.sections), \"subsections\")\n",
    "print('='*50)\n",
    "summary = []\n",
    "if len(selected_section.sections)<=1:\n",
    "    summary.append(page.summary)\n",
    "    summary.append(text_section)\n",
    "    \n",
    "else:\n",
    "    selected_subsection, text_subsection= getTopSection(selected_section.sections, keyword)\n",
    "    summary.append(page.summary)\n",
    "    summary.append(text_subsection)\n",
    "print(\"summary for page: \")\n",
    "print(summary[0])\n",
    "print('-'*50)\n",
    "print(\"summary for subsection: \", selected_section.title )\n",
    "print(summary[1])"
   ]
  },
  {
   "cell_type": "code",
   "execution_count": null,
   "metadata": {
    "collapsed": true
   },
   "outputs": [],
   "source": []
  }
 ],
 "metadata": {
  "kernelspec": {
   "display_name": "Python 3",
   "language": "python",
   "name": "python3"
  },
  "language_info": {
   "codemirror_mode": {
    "name": "ipython",
    "version": 3
   },
   "file_extension": ".py",
   "mimetype": "text/x-python",
   "name": "python",
   "nbconvert_exporter": "python",
   "pygments_lexer": "ipython3",
   "version": "3.6.1"
  }
 },
 "nbformat": 4,
 "nbformat_minor": 2
}
