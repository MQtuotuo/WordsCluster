{
 "cells": [
  {
   "cell_type": "code",
   "execution_count": 1,
   "metadata": {
    "collapsed": true
   },
   "outputs": [],
   "source": [
    "import wikipediaapi\n",
    "from __future__ import division\n",
    "from sklearn.cluster import KMeans\n",
    "from numbers import Number\n",
    "from pandas import DataFrame\n",
    "import sys, codecs, numpy\n",
    "import numpy as np\n",
    "import argparse\n",
    "import logging\n",
    "import time\n",
    "from gensim.models import Word2Vec\n",
    "from gensim.models import KeyedVectors"
   ]
  },
  {
   "cell_type": "code",
   "execution_count": 2,
   "metadata": {
    "collapsed": true
   },
   "outputs": [],
   "source": [
    "wiki_wiki = wikipediaapi.Wikipedia('en')\n",
    "page = wiki_wiki.page('Berlin')"
   ]
  },
  {
   "cell_type": "code",
   "execution_count": 3,
   "metadata": {
    "collapsed": true
   },
   "outputs": [],
   "source": [
    "def print_sections(sections, level=0):\n",
    "        for s in sections:\n",
    "                print(\"%s: %s - %s\" % (\"*\" * (level + 1), s.title, s.text[0:40]))\n",
    "                print_sections(s.sections, level + 1)"
   ]
  },
  {
   "cell_type": "code",
   "execution_count": 4,
   "metadata": {},
   "outputs": [
    {
     "name": "stdout",
     "output_type": "stream",
     "text": [
      "*: History - \n",
      "**: Etymology - Berlin lies in northeastern Germany, eas\n",
      "**: 12th to 16th centuries - The earliest evidence of settlements in \n",
      "**: 17th to 19th centuries - The Thirty Years' War between 1618 and 1\n",
      "**: 20th to 21st centuries - In the early 20th century, Berlin had be\n",
      "*: Geography - \n",
      "**: Topography - Berlin is situated in northeastern Germa\n",
      "**: Climate - Berlin has a Maritime temperate climate \n",
      "**: Cityscape - Berlin's history has left the city with \n",
      "**: Architecture - The Fernsehturm (TV tower) at Alexanderp\n",
      "*: Demographics - On 30 June 2017 the city-state of Berlin\n",
      "**: Nationalities - National and international migration int\n",
      "**: Languages - German is the official and predominant s\n",
      "**: Religion - More than 60% of Berlin residents have n\n",
      "*: Government - \n",
      "**: City state - Since the reunification on 3 October 199\n",
      "**: Boroughs - Berlin is subdivided into 12 boroughs or\n",
      "**: Twin towns – sister cities - Berlin maintains official partnerships w\n",
      "**: Capital city - Berlin is the capital of the Federal Rep\n",
      "*: Economy - In 2015 the nominal GDP of the citystate\n",
      "**: Companies - Many German and international companies \n",
      "**: Tourism and conventions - Berlin had 788 hotels with 134,399 beds \n",
      "**: Creative industries - The creative arts and entertainment busi\n",
      "**: Media - Berlin is home to numerous magazine, new\n",
      "*: Infrastructure - \n",
      "**: Transport - Road\n",
      "\n",
      "Berlin's transport infrastructure \n",
      "**: Energy - Berlin's two largest energy provider for\n",
      "**: Health - Berlin has a long history of discoveries\n",
      "**: Telecommunication - The digital television standard in Berli\n",
      "*: Education - Berlin has 878 schools that teach 340,65\n",
      "**: Higher education - The Berlin-Brandenburg capital region is\n",
      "**: Research - The city has a high density of internati\n",
      "*: Culture - Berlin is known for its numerous cultura\n",
      "**: Galleries and museums - As of 2011 Berlin is home to 138 museums\n",
      "**: Nightlife and festivals - Berlin's nightlife has been celebrated a\n",
      "**: Performing arts - Berlin is home to 44 theaters and stages\n",
      "**: Cuisine - The cuisine and culinary offerings of Be\n",
      "**: Recreation - Zoologischer Garten Berlin, the older of\n",
      "**: Sports - Berlin has established a high-profile as\n",
      "*: See also - \n",
      "*: Notes - \n",
      "*: References - Chandler, Tertius (1987). Four Thousand \n",
      "*: External links - \n",
      "Berlin.de – Official website\n",
      " Geographi\n"
     ]
    }
   ],
   "source": [
    "print_sections(page.sections)"
   ]
  },
  {
   "cell_type": "code",
   "execution_count": 5,
   "metadata": {},
   "outputs": [
    {
     "data": {
      "text/plain": [
       "['History',\n",
       " 'Geography',\n",
       " 'Demographics',\n",
       " 'Government',\n",
       " 'Economy',\n",
       " 'Infrastructure',\n",
       " 'Education',\n",
       " 'Culture',\n",
       " 'See also',\n",
       " 'Notes',\n",
       " 'References',\n",
       " 'External links']"
      ]
     },
     "execution_count": 5,
     "metadata": {},
     "output_type": "execute_result"
    }
   ],
   "source": [
    "section_title=[]\n",
    "for s in page.sections:\n",
    "    section_title.append(s.title)\n",
    "section_title"
   ]
  },
  {
   "cell_type": "code",
   "execution_count": 6,
   "metadata": {},
   "outputs": [
    {
     "name": "stdout",
     "output_type": "stream",
     "text": [
      "Etymology\n",
      "Berlin lies in northeastern Germany, east of the river Elbe and its tributary (Saxon/Thuringian) Saale, which once constituted the eastern border of the Frankish Realm. While the Frankish Realm was primarily inhabited by Germanic tribes like the Franks and the Saxons, the regions east of the border rivers were inhabited by Slavic tribes. This is why most of the cities and villages in northeastern Germany have Slavic-derived names (Germania Slavica). Typical German place name endings of Slavic origin are -ow, -itz, -itzsch and -in. The name Berlin has its roots in the language of West Slavic inhabitants of the area of today's Berlin, and may be related to the Old Polabian stem berl-/birl- (\"swamp\"). There are many boroughs of Slavic origin in the city: Berlin-Karow, Berlin-Malchow, Berlin-Pankow, Berlin-Spandau (earlier: Spandow), Berlin-Gatow, Berlin-Kladow, Berlin-Steglitz, Berlin-Lankwitz, Berlin-Britz, Berlin-Buckow, Berlin-Rudow, Berlin-Alt-Treptow, Berlin-Schmöckwitz, Berlin-Marzahn, Berlin-Buch, and Berlin-Köpenick. Since the Ber- at the beginning sounds like the German word Bär (bear), a bear appears in the coat of arms of the city. It is therefore a canting arm.\n",
      "##################################################\n",
      "12th to 16th centuries\n",
      "The earliest evidence of settlements in the area of today's Berlin are a wooden beam dated from approximately 1192, and remnants of a house foundation dated to 1174, found in excavations in Berlin Mitte. The first written records of towns in the area of present-day Berlin date from the late 12th century. Spandau is first mentioned in 1197 and Köpenick in 1209, although these areas did not join Berlin until 1920. The central part of Berlin can be traced back to two towns. Cölln on the Fischerinsel is first mentioned in a 1237 document, and Berlin, across the Spree in what is now called the Nikolaiviertel, is referenced in a document from 1244. 1237 is considered the founding date of the city. The two towns over time formed close economic and social ties, and profited from the staple right on the two important trade routes Via Imperii and from Bruges to Novgorod. In 1307, they formed an alliance with a common external policy, their internal administrations still being separated.\n",
      "In 1415, Frederick I became the elector of the Margraviate of Brandenburg, which he ruled until 1440. During the 15th century, his successors established Berlin-Cölln as capital of the margraviate, and subsequent members of the Hohenzollern family ruled in Berlin until 1918, first as electors of Brandenburg, then as kings of Prussia, and eventually as German emperors. In 1443, Frederick II Irontooth started the construction of a new royal palace in the twin city Berlin-Cölln. The protests of the town citizens against the building culminated in 1448, in the \"Berlin Indignation\" (\"Berliner Unwille\"). This protest was not successful and the citizenry lost many of its political and economic privileges. After the royal palace was finished in 1451, it gradually came into use. From 1470, with the new elector Albrecht III Achilles, Berlin-Cölln became the new royal residence. Officially, the Berlin-Cölln palace became permanent residence of the Brandenburg electors of the Hohenzollerns from 1486, when John Cicero came to power. Berlin-Cölln, however, had to give up its status as a free Hanseatic city. In 1539, the electors and the city officially became Lutheran.\n",
      "##################################################\n",
      "17th to 19th centuries\n",
      "The Thirty Years' War between 1618 and 1648 devastated Berlin. One third of its houses were damaged or destroyed, and the city lost half of its population. Frederick William, known as the \"Great Elector\", who had succeeded his father George William as ruler in 1640, initiated a policy of promoting immigration and religious tolerance. With the Edict of Potsdam in 1685, Frederick William offered asylum to the French Huguenots. By 1700, approximately 30 percent of Berlin's residents were French, because of the Huguenot immigration. Many other immigrants came from Bohemia, Poland, and Salzburg.\n",
      "\n",
      "Since 1618, the Margraviate of Brandenburg had been in personal union with the Duchy of Prussia. In 1701, the dual state formed the Kingdom of Prussia, as Frederick III, Elector of Brandenburg, crowned himself as king Frederick I in Prussia. Berlin became the capital of the new Kingdom, replacing Königsberg. This was a successful attempt to centralise the capital in the very far-flung state, and it was the first time the city began to grow. In 1709, Berlin merged with the four cities of Cölln, Friedrichswerder, Friedrichstadt and Dorotheenstadt under the name Berlin, \"Haupt- und Residenzstadt Berlin\".\n",
      "In 1740, Frederick II, known as Frederick the Great (1740–1786), came to power. Under the rule of Frederick II, Berlin became a center of the Enlightenment, but also, was briefly occupied during the Seven Years' War by the Russian army. Following France's victory in the War of the Fourth Coalition, Napoleon Bonaparte marched into Berlin in 1806, but granted self-government to the city. In 1815, the city became part of the new Province of Brandenburg.\n",
      "The Industrial Revolution transformed Berlin during the 19th century; the city's economy and population expanded dramatically, and it became the main railway hub and economic centre of Germany. Additional suburbs soon developed and increased the area and population of Berlin. In 1861, neighbouring suburbs including Wedding, Moabit and several others were incorporated into Berlin. In 1871, Berlin became capital of the newly founded German Empire. In 1881, it became a city district separate from Brandenburg.\n",
      "##################################################\n",
      "20th to 21st centuries\n",
      "In the early 20th century, Berlin had become a fertile ground for the German Expressionist movement. In fields such as architecture, painting and cinema new forms of artistic styles were invented. At the end of the First World War in 1918, a republic was proclaimed by Philipp Scheidemann at the Reichstag building. In 1920, the Greater Berlin Act incorporated dozens of suburban cities, villages and estates around Berlin into an expanded city. The act increased the area of Berlin from 66 to 883 km2 (25 to 341 sq mi). The population almost doubled and Berlin had a population of around four million. During the Weimar era, Berlin underwent political unrest due to economic uncertainties, but also became a renowned centre of the Roaring Twenties. The metropolis experienced its heyday as a major world capital and was known for its leadership roles in science, technology, arts, the humanities, city planning, film, higher education, government and industries. Albert Einstein rose to public prominence during his years in Berlin, being awarded the Nobel Prize for Physics in 1921.\n",
      "\n",
      "In 1933, Adolf Hitler and the Nazi Party came to power. NSDAP rule diminished Berlin's Jewish community from 160,000 (one-third of all Jews in the country) to about 80,000 as a result of emigration between 1933 and 1939. After Kristallnacht in 1938, thousands of the city's Jews were imprisoned in the nearby Sachsenhausen concentration camp. Starting in early 1943, many were shipped to death camps, such as Auschwitz. During World War II, large parts of Berlin were destroyed in the 1943–45 air raids and during the Battle of Berlin. Around 125,000 civilians were killed. After the end of the war in Europe in May 1945, Berlin received large numbers of refugees from the Eastern provinces. The victorious powers divided the city into four sectors, analogous to the occupation zones into which Germany was divided. The sectors of the Western Allies (the United States, the United Kingdom and France) formed West Berlin, while the Soviet sector formed East Berlin.\n",
      "\n",
      "All four Allies shared administrative responsibilities for Berlin. However, in 1948, when the Western Allies extended the currency reform in the Western zones of Germany to the three western sectors of Berlin, the Soviet Union imposed a blockade on the access routes to and from West Berlin, which lay entirely inside Soviet-controlled territory. The Berlin airlift, conducted by the three western Allies, overcame this blockade by supplying food and other supplies to the city from June 1948 to May 1949. In 1949, the Federal Republic of Germany was founded in West Germany and eventually included all of the American, British and French zones, excluding those three countries' zones in Berlin, while the Marxist-Leninist German Democratic Republic was proclaimed in East Germany. West Berlin officially remained an occupied city, but it politically was aligned with the Federal Republic of Germany despite West Berlin's geographic isolation. Airline service to West Berlin was granted only to American, British and French airlines.\n",
      "\n",
      "The founding of the two German states increased Cold War tensions. West Berlin was surrounded by East German territory, and East Germany proclaimed the Eastern part as its capital, a move that was not recognised by the western powers. East Berlin included most of the historic centre of the city. The West German government established itself in Bonn. In 1961, East Germany began the building of the Berlin Wall between East and West Berlin, and events escalated to a tank standoff at Checkpoint Charlie. West Berlin was now de facto a part of West Germany with a unique legal status, while East Berlin was de facto a part of East Germany. John F. Kennedy gave his \"Ich bin ein Berliner\" speech in 1963, underlining the US support for the Western part of the city. Berlin was completely divided. Although it was possible for Westerners to pass to the other side through strictly controlled checkpoints, for most Easterners travel to West Berlin or West Germany was prohibited by the government of East Germany. In 1971, a Four-Power agreement guaranteed access to and from West Berlin by car or train through East Germany.\n",
      "In 1989, with the end of the Cold War and pressure from the East German population, the Berlin Wall fell on 9 November and was subsequently mostly demolished. Today, the East Side Gallery preserves a large portion of the wall. On 3 October 1990, the two parts of Germany were reunified as the Federal Republic of Germany and Berlin again became the official German capital. In 1991, the German Parliament, the Bundestag, voted to move the seat of the German capital from Bonn to Berlin, which was completed in 1999. On 18 June 1994, soldiers from the United States, France and Britain marched in a parade which was part of the ceremonies to mark the final withdrawal of foreign troops allowing a reunified Berlin. Berlin's 2001 administrative reform merged several districts. The number of boroughs was reduced from 23 to 12.\n",
      "In 2006, the FIFA World Cup Final was held in Berlin.\n",
      "In a 2016 terrorist attack linked to ISIL, a truck was deliberately driven into the Christmas market next to the Kaiser Wilhelm Memorial Church, leaving 12 people dead and 56 others injured.\n",
      "##################################################\n"
     ]
    }
   ],
   "source": [
    "index = section_title.index('History')\n",
    "for sub in page.sections[index].sections:\n",
    "    print(sub.title)\n",
    "    print(sub.text)\n",
    "    print('#'*50)"
   ]
  },
  {
   "cell_type": "code",
   "execution_count": 7,
   "metadata": {},
   "outputs": [
    {
     "name": "stdout",
     "output_type": "stream",
     "text": [
      "Load word2vec model ... finished in 59.17 sec.\n",
      "#words = 3000000, vector size = 300\n"
     ]
    }
   ],
   "source": [
    "start = time.time()\n",
    "print(\"Load word2vec model ... \", end=\"\", flush=True)\n",
    "model_path='data/GoogleNews-vectors-negative300.bin'\n",
    "w2v_model = KeyedVectors.load_word2vec_format(model_path, binary=bool(1))\n",
    "print(\"finished in {:.2f} sec.\".format(time.time() - start), flush=True)\n",
    "word_vectors = w2v_model.wv.syn0\n",
    "n_words = word_vectors.shape[0]\n",
    "vec_size = word_vectors.shape[1]\n",
    "print(\"#words = {0}, vector size = {1}\".format(n_words, vec_size))"
   ]
  },
  {
   "cell_type": "code",
   "execution_count": 8,
   "metadata": {
    "collapsed": true
   },
   "outputs": [],
   "source": [
    "# get the labels, and vectors for each label\n",
    "array=[]\n",
    "with open('data/all_predicate.txt', 'r') as myfile:\n",
    "    array=[]\n",
    "    for line in myfile:\n",
    "        *others, last = line.split('/')\n",
    "        last=last.rstrip('\\n') \n",
    "        array.append(last)\n",
    "        \n",
    "with open('data/all_predicate_entity.txt', mode='wt', encoding='utf-8') as myfile:\n",
    "    myfile.write('\\n'.join(array))\n"
   ]
  },
  {
   "cell_type": "code",
   "execution_count": 9,
   "metadata": {
    "collapsed": true
   },
   "outputs": [],
   "source": [
    "from utils import *\n",
    "from wordCluster import *"
   ]
  },
  {
   "cell_type": "code",
   "execution_count": 13,
   "metadata": {},
   "outputs": [
    {
     "name": "stdout",
     "output_type": "stream",
     "text": [
      "clustering in 52 groups \n",
      "\n"
     ]
    }
   ],
   "source": [
    "labels_array = []\n",
    "numpy_arrays = []\n",
    "for entity in array:\n",
    "    labels_array.append(entity)\n",
    "    sr = phrase_vector(entity, w2v_model)\n",
    "    numpy_arrays.append(np.array([float(i) for i in sr[0:]]) )\n",
    "numpy_arrays = np.array( numpy_arrays )\n",
    "\n",
    "numOfCluster=52\n",
    "print(\"clustering in {} groups \\n\".format(numOfCluster))\n",
    "kmeans_model = KMeans(init='k-means++', n_clusters=numOfCluster, n_init=10)\n",
    "kmeans_model.fit(numpy_arrays)\n",
    "cluster_labels  = kmeans_model.labels_\n",
    "cluster_inertia   = kmeans_model.inertia_\n",
    "cluster_to_words  = find_word_clusters(labels_array, cluster_labels)\n"
   ]
  },
  {
   "cell_type": "code",
   "execution_count": null,
   "metadata": {
    "collapsed": true
   },
   "outputs": [],
   "source": [
    "most_similar_words=[]\n",
    "for i in range(0, numOfCluster):\n",
    "    #print(i)\n",
    "    model_word_vector = np.array(kmeans_model.cluster_centers_[i], dtype='f')\n",
    "    similar_word = w2v_model.most_similar( [ model_word_vector ], [], topn=1)[0][0]\n",
    "    \n",
    "    most_similar_words.append(similar_word)"
   ]
  },
  {
   "cell_type": "code",
   "execution_count": 23,
   "metadata": {},
   "outputs": [
    {
     "name": "stdout",
     "output_type": "stream",
     "text": [
      "broadcast\n",
      "['BroadcastNetwork', 'Presenter', 'ProgrammingLanguage', 'RadioHost', 'RadioProgram', 'RadioStation', 'Stream', 'TelevisionEpisode', 'TelevisionHost', 'TelevisionSeason', 'TelevisionShow', 'TelevisionStation', 'analogChannel', 'broadcastArea', 'broadcastNetwork', 'broadcastRepeater', 'broadcastStationClass', 'broadcastTranslator', 'channel', 'digitalChannel', 'digitalSubChannel', 'format', 'formerBroadcastNetwork', 'formerChannel', 'guest', 'network', 'otherChannel', 'presenter', 'programmeFormat', 'programmingLanguage', 'series', 'show', 'televisionSeries', 'timeshiftChannel', 'virtualChannel', 'voice', 'webcast']\n",
      "\n",
      "\n",
      "play\n",
      "['Game', 'Play', 'VideoGame', 'actScore', 'battingSide', 'characterInPlay', 'chorusCharacterInPlay', 'field', 'firstGame', 'gameEngine', 'games', 'muteCharacterInPlay', 'plays', 'satScore', 'settingOfPlay', 'shoots', 'subjectOfPlay']\n",
      "\n",
      "\n",
      "protein\n",
      "['Archaea', 'Bacteria', 'Brain', 'Enzyme', 'Eukaryote', 'HumanGene', 'HumanGeneLocation', 'MouseGene', 'MouseGeneLocation', 'Protein', 'bioavailability', 'carbohydrate', 'chromosome', 'geneLocation', 'orthologousGene', 'protein']\n",
      "\n",
      "\n",
      "length\n",
      "['length', 'width', 'length', 'shoreLength', 'length', 'width', 'length', 'width', 'length', 'lengthQuote', 'lengthReference', 'lineLength', 'runwayLength', 'shoreLength', 'trackLength', 'width', 'widthQuote']\n",
      "\n",
      "\n",
      "player\n",
      "['Athlete', 'BadmintonPlayer', 'BaseballPlayer', 'BasketballPlayer', 'BeachVolleyballPlayer', 'Canoeist', 'ChessPlayer', 'Cricketer', 'Curler', 'DartsPlayer', 'FigureSkater', 'GolfPlayer', 'HandballPlayer', 'IceHockeyPlayer', 'LacrossePlayer', 'NetballPlayer', 'PokerPlayer', 'Rower', 'RugbyPlayer', 'Skier', 'SnookerChamp', 'SnookerPlayer', 'SoccerPlayer', 'SquashPlayer', 'Swimmer', 'TableTennisPlayer', 'TennisPlayer', 'VolleyballPlayer']\n",
      "\n",
      "\n",
      "area\n",
      "['AdministrativeRegion', 'floorArea', 'City', 'Island', 'areaOfCatchment', 'Mayor', 'surfaceArea', 'area', 'areaMetro', 'areaTotal', 'areaUrban', 'ProtectedArea', 'SkiArea', 'watershed', 'Town', 'Village', 'administrativeDistrict', 'archipelago', 'area', 'areaLand', 'areaMetro', 'areaOfCatchment', 'areaOfCatchmentQuote', 'areaOfSearch', 'areaQuote', 'areaRural', 'areaTotal', 'areaUrban', 'areaWater', 'arrondissement', 'beltwayCity', 'borough', 'capitalRegion', 'ceremonialCounty', 'city', 'cityType', 'congressionalDistrict', 'councilArea', 'county', 'countySeat', 'district', 'floorArea', 'garrison', 'island', 'largestCity', 'lieutenancyArea', 'locatedInArea', 'locationCity', 'locationCountry', 'mayor', 'metropolitanBorough', 'municipality', 'nearestCity', 'neighboringMunicipality', 'parish', 'percentageOfAreaWater', 'principalArea', 'province', 'region', 'ruralMunicipality', 'subdivisions', 'subregion', 'surfaceArea', 'territory', 'twinTown', 'watershed']\n",
      "\n",
      "\n",
      "mso_font_pitch\n",
      "['AnatomicalStructure', 'maximumBoatBeam', 'maximumBoatLength', 'originalMaximumBoatBeam', 'originalMaximumBoatLength', 'cylinderBore', 'pistonStroke', 'torqueOutput', 'distance', 'averageSpeed', 'meanRadius', 'orbitalPeriod', 'absoluteMagnitude', 'ageRange', 'apparentMagnitude', 'approximateCalories', 'averageDepth', 'averageDepthQuote', 'averageSpeed', 'barPassRate', 'binomial', 'blockAlloy', 'capacityFactor', 'capitalElevation', 'comparable', 'complexity', 'compressionRatio', 'configuration', 'cost', 'cylinderBore', 'cylinderCount', 'declination', 'depth', 'distance', 'distanceToBelfast', 'distanceToCardiff', 'distanceToCharingCross', 'distanceToDouglas', 'distanceToDublin', 'distanceToEdinburgh', 'distanceToLondon', 'duration', 'effectiveRadiatedPower', 'elevation', 'elevationQuote', 'escapeVelocity', 'frequency', 'frequencyOfPublication', 'geologicPeriod', 'glycemicIndex', 'governmentElevation', 'gross', 'headAlloy', 'heightAboveAverageTerrain', 'layout', 'loadLimit', 'lowerAge', 'managementElevation', 'maxTime', 'maximumBoatBeam', 'maximumBoatLength', 'maximumDepth', 'maximumDepthQuote', 'maximumElevation', 'meanRadius', 'minTime', 'minimumElevation', 'networth', 'orbitalPeriod', 'originalMaximumBoatBeam', 'originalMaximumBoatLength', 'outflow', 'pistonStroke', 'rating', 'ratio', 'relative', 'shipBeam', 'sourceConfluenceElevation', 'sourceElevation', 'speedLimit', 'topSpeed', 'torqueOutput', 'upperAge', 'utcOffset', 'valvetrain', 'wavelength']\n",
      "\n",
      "\n",
      "weight\n",
      "['Bone', 'weight', 'Ligament', 'weight', 'Muscle', 'weight', 'campusSize', 'fileSize', 'weight', 'averageClassSize', 'bustSize', 'campusSize', 'fat', 'fileSize', 'hipSize', 'imageSize', 'servingSize', 'shoeSize', 'strength', 'teamSize', 'thumbnail', 'waistSize', 'weight']\n",
      "\n",
      "\n",
      "driver\n",
      "['Automobile', 'AutomobileEngine', 'CyclingRace', 'Cyclist', 'Engine', 'FormulaOneRacer', 'HorseRace', 'Motorcycle', 'MotorcycleRacingLeague', 'MotorcycleRider', 'MotorsportSeason', 'NascarDriver', 'RaceHorse', 'RacingDriver', 'RollerCoaster', 'SpeedwayRider', 'SpeedwayTeam', 'distanceLaps', 'engine', 'fastestDriver', 'fastestDriverCountry', 'fastestDriverTeam', 'fastestLap', 'firstDriver', 'firstDriverCountry', 'firstDriverTeam', 'firstRace', 'lastRace', 'podiums', 'poleDriver', 'poleDriverCountry', 'poleDriverTeam', 'race', 'raceHorse', 'races', 'secondDriver', 'secondDriverCountry', 'thirdDriver', 'thirdDriverCountry', 'vehicle']\n",
      "\n",
      "\n",
      "diameter\n",
      "['diameter', 'diameter', 'diameter']\n",
      "\n",
      "\n",
      "coach\n",
      "['CollegeCoach', 'VolleyballCoach', 'assistantPrincipal', 'chaplain', 'coach', 'custodian', 'formerCoach', 'headteacher', 'pastor', 'principal', 'superintendent']\n",
      "\n",
      "\n",
      "code\n",
      "['runtime', 'areaCode', 'code', 'colourHexCode', 'compiler', 'dressCode', 'fdaUniiCode', 'iataAirlineCode', 'icaoAirlineCode', 'inseeCode', 'iso6391Code', 'iso6392Code', 'iso6393Code', 'isoCodeRegion', 'municipalityCode', 'nutsCode', 'postalCode', 'runtime', 'schoolCode', 'uciCode']\n",
      "\n",
      "\n",
      "editor\n",
      "['Chef', 'Historian', 'Journalist', 'Photographer', 'Publisher', 'ScreenWriter', 'Writer', 'associateEditor', 'author', 'chef', 'chiefEditor', 'curator', 'editing', 'editor', 'editorTitle', 'managingEditor', 'photographer', 'previousEditor', 'producer', 'publisher', 'storyEditor', 'translator', 'writer']\n",
      "\n",
      "\n",
      "temperature\n",
      "['maximumTemperature', 'meanTemperature', 'minimumTemperature', 'temperature', 'albedo', 'maximumTemperature', 'meanTemperature', 'minimumTemperature', 'servingTemperature', 'temperature']\n",
      "\n",
      "\n",
      "government\n",
      "['Bank', 'Criminal', 'Currency', 'Election', 'Embryology', 'EthnicGroup', 'GovernmentAgency', 'Judge', 'Language', 'LawFirm', 'Legislature', 'MemberOfParliament', 'MilitaryConflict', 'MilitaryPerson', 'MilitaryStructure', 'MilitaryUnit', 'Newspaper', 'PoliticalParty', 'Prison', 'ReligiousBuilding', 'SupremeCourtOfTheUnitedStatesCase', 'TradeUnion', 'administrativeCollectivity', 'agency', 'alliance', 'appointer', 'associationOfLocalGovernment', 'authority', 'binomialAuthority', 'board', 'budget', 'canton', 'capital', 'capitalCountry', 'capitalPosition', 'committee', 'committeeInLegislature', 'currency', 'denomination', 'department', 'disbanded', 'discipline', 'dissolved', 'electionMajority', 'ethnicGroup', 'europeanParliamentGroup', 'federalState', 'governingBody', 'government', 'governmentCountry', 'governmentPlace', 'governmentPosition', 'governmentRegion', 'governmentType', 'jurisdiction', 'language', 'languageFamily', 'languageRegulator', 'leaderParty', 'legislativePeriodName', 'localAuthority', 'membership', 'militaryBranch', 'militaryCommand', 'militaryRank', 'militaryUnit', 'occupation', 'officialLanguage', 'oversight', 'party', 'politicalPartyInLegislature', 'politicalPartyOfLeader', 'projectBudgetFunding', 'regionalLanguage', 'religiousHead', 'seniority', 'sportGoverningBody', 'state', 'stateDelegate', 'stateOfOrigin', 'unitaryAuthority']\n",
      "\n",
      "\n",
      "date\n",
      "['acquirementDate', 'argueDate', 'birthDate', 'buildingEndDate', 'buildingStartDate', 'canonizedDate', 'captureDate', 'certificationDate', 'christeningDate', 'closingDate', 'commissioningDate', 'completionDate', 'date', 'dateAct', 'dateCompleted', 'dateConstruction', 'dateOfAbandonment', 'dateOfBurial', 'dateUse', 'deathDate', 'decideDate', 'decommissioningDate', 'deliveryDate', 'demolitionDate', 'destructionDate', 'dissolutionDate', 'electionDate', 'electionDateLeader', 'endDate', 'extinctionDate', 'firstAirDate', 'firstLaunchDate', 'firstPublicationDate', 'floodingDate', 'foalDate', 'formationDate', 'foundingDate', 'introductionDate', 'lastAirDate', 'lastElectionDate', 'lastLaunchDate', 'lastPublicationDate', 'latestPreviewDate', 'latestReleaseDate', 'openingDate', 'orderDate', 'premiereDate', 'productionEndDate', 'productionStartDate', 'projectEndDate', 'projectStartDate', 'publicationDate', 'rebuildingDate', 'recommissioningDate', 'recordDate', 'releaseDate', 'releaseLocation', 'reopeningDate', 'restoreDate', 'shareDate', 'startDate', 'suppreddedDate']\n",
      "\n",
      "\n",
      "sales\n",
      "['Non-ProfitOrganisation', 'Sales', 'revenue', 'sales']\n",
      "\n",
      "\n",
      "museum\n",
      "['Airport', 'AmusementParkAttraction', 'Building', 'Castle', 'Convention', 'Garden', 'HistoricBuilding', 'Hospital', 'Hotel', 'Library', 'Monument', 'Museum', 'Park', 'Restaurant', 'ShoppingMall', 'Skyscraper', 'Stadium', 'Venue', 'branchTo', 'building', 'destination', 'hallOfFame', 'headquarter', 'homeArena', 'homeStadium', 'hometown', 'house', 'hubAirport', 'location', 'lounge', 'majorShrine', 'museum', 'office', 'residence', 'stadium', 'targetAirport', 'tenant']\n",
      "\n",
      "\n",
      "league\n",
      "['AmericanFootballCoach', 'AmericanFootballLeague', 'AmericanFootballPlayer', 'AmericanFootballTeam', 'AustralianFootballLeague', 'AustralianFootballTeam', 'AustralianRulesFootballPlayer', 'AutoRacingLeague', 'BaseballLeague', 'BaseballSeason', 'BaseballTeam', 'BasketballLeague', 'BasketballTeam', 'BowlingLeague', 'CanadianFootballLeague', 'CanadianFootballTeam', 'ClubMoss', 'CricketGround', 'CricketLeague', 'CricketTeam', 'CurlingLeague', 'CyclingTeam', 'FieldHockeyLeague', 'FootballLeagueSeason', 'FootballMatch', 'GaelicGamesPlayer', 'GolfCourse', 'GolfLeague', 'GolfTournament', 'GridironFootballPlayer', 'HandballLeague', 'HandballTeam', 'HockeyTeam', 'IceHockeyLeague', 'InlineHockeyLeague', 'LacrosseLeague', 'NationalCollegiateAthleticAssociationAthlete', 'NationalFootballLeagueEvent', 'NationalFootballLeagueSeason', 'OlympicEvent', 'Olympics', 'PoloLeague', 'RugbyClub', 'RugbyLeague', 'SoccerClub', 'SoccerClubSeason', 'SoccerLeague', 'SoccerManager', 'SoccerTournament', 'SoftballLeague', 'SpeedwayLeague', 'Sport', 'SportsEvent', 'SportsLeague', 'SportsTeam', 'SportsTeamMember', 'TennisLeague', 'TennisTournament', 'VideogamesLeague', 'VolleyballLeague', 'WomensTennisAssociationTournament', 'WrestlingEvent', 'athletics', 'championships', 'club', 'clubsRecordGoalscorer', 'coachedTeam', 'league', 'prospectLeague', 'season', 'sport', 'sportCountry', 'team']\n",
      "\n",
      "\n",
      "eclipsed_Chris_Evert\n",
      "['FormulaOneTeam', 'NCAATeamSeason', 'RecordLabel', 'SnookerWorldRanking', 'Star', 'bestFinish', 'bowlRecord', 'bronzeMedalist', 'careerPrizeMoney', 'category', 'champion', 'championInDoubleFemale', 'championInDoubleMale', 'championInMixedDouble', 'championInSingleFemale', 'championInSingleMale', 'coachingRecord', 'crownDependency', 'currentRank', 'currentRecord', 'debut', 'debutTeam', 'division', 'firstLeader', 'firstWin', 'firstWinner', 'formerTeam', 'goldMedalist', 'highestBreak', 'highestPlace', 'highestPosition', 'highestRank', 'highestRegion', 'highestState', 'iucnCategory', 'largestWin', 'lastPosition', 'lastWin', 'leaderTitle', 'lowest', 'lowestPlace', 'lowestPosition', 'lowestRegion', 'lowestState', 'managerTitle', 'mostWins', 'nationalRanking', 'nationalTeam', 'numberOfBronzeMedalsWon', 'numberOfGoldMedalsWon', 'numberOfSilverMedalsWon', 'opponent', 'otherWins', 'overallRecord', 'position', 'prospectTeam', 'rankInFinalMedalCount', 'ranking', 'rankingWins', 'recentWinner', 'recordLabel', 'retired', 'rival', 'runningMate', 'secondLeader', 'secondTeam', 'selection', 'silverMedalist', 'sixthFormStudents', 'thirdTeam', 'title', 'tournamentRecord', 'wins', 'winsAtAsia', 'winsAtAus', 'winsAtChallenges', 'winsAtChampionships', 'winsAtJapan', 'winsAtLET', 'winsAtLPGA', 'winsAtMajors', 'winsAtOtherTournaments', 'winsAtPGA', 'winsAtProTournaments', 'winsInEurope', 'worldChampionTitleYear', 'worstDefeat']\n",
      "\n",
      "\n",
      "By_Laurelle_Gilbert\n",
      "['Activity', 'ArchitecturalStructure', 'ArtificialSatellite', 'BeautyQueen', 'BiologicalDatabase', 'BodyOfWater', 'BusinessPerson', 'ChemicalCompound', 'Colour', 'Company', 'CultivatedVariety', 'Device', 'Drug', 'Fashion', 'Food', 'Gnetophytes', 'GrandPrix', 'InformationAppliance', 'mass', 'Medician', 'Mineral', 'MixedMartialArtsEvent', 'MixedMartialArtsLeague', 'Model', 'Mollusca', 'Nerve', 'Noble', 'OfficeHolder', 'OlympicResult', 'Organisation', 'Person', 'PersonFunction', 'apoapsis', 'mass', 'periapsis', 'PublicTransitSystem', 'ResearchProject', 'mass', 'Royalty', 'Settlement', 'Single', 'SiteOfSpecialScientificInterest', 'Software', 'Sound', 'Theatre', 'Vein', 'Weapon', 'Website', 'WorldHeritageSite', 'WrittenWork', 'aSide', 'access', 'added', 'address', 'addressInRoad', 'almaMater', 'apoapsis', 'architecturalStyle', 'arm', 'assetUnderManagement', 'assets', 'associatedAct', 'associatedBand', 'atcSupplemental', 'automobilePlatform', 'availableSmartCard', 'bSide', 'background', 'basedOn', 'battle', 'battleHonours', 'bedCount', 'bicycleInformation', 'block', 'bodyDiscovered', 'bodyStyle', 'brainInfoType', 'branchFrom', 'builder', 'canBaggageChecked', 'casSupplemental', 'causalties', 'ceeb', 'certification', 'chEBI', 'chain', 'chairLabel', 'child', 'childOrganisation', 'cmykCoordinateBlack', 'cmykCoordinateCyanic', 'cmykCoordinateMagenta', 'cmykCoordinateYellow', 'coden', 'collection', 'colour', 'combatant', 'commandStructure', 'company', 'component', 'computingMedia', 'computingPlatform', 'conservationStatus', 'conservationStatusSystem', 'constructionMaterial', 'countryOrigin', 'crosses', 'cultivatedVariety', 'currentMember', 'currentPartner', 'currentProduction', 'currentStatus', 'currentlyUsedFor', 'damage', 'dcc', 'deathCause', 'demonym', 'derivative', 'designCompany', 'detectionMethod', 'developer', 'dfE', 'discovered', 'distributingCompany', 'distributingLabel', 'distributor', 'drainsFrom', 'drugbank', 'employer', 'engineType', 'ensembl', 'entrezgene', 'equity', 'established', 'ethnicGroupsInYear', 'eyeColor', 'family', 'fansgroup', 'fareZone', 'fees', 'floorCount', 'formerBandMember', 'formerPartner', 'foundedBy', 'frazioni', 'frequentlyUpdated', 'frozen', 'fuelType', 'fundedBy', 'grayPage', 'graySubject', 'gridReference', 'grossDomesticProduct', 'ground', 'hairColor', 'hasJunctionWith', 'hasVariant', 'headLabel', 'hgncid', 'honours', 'hsvCoordinateHue', 'hsvCoordinateSaturation', 'hsvCoordinateValue', 'hybrid', 'icd10', 'icd9', 'icdo', 'impactFactor', 'impactFactorAsOf', 'individualisedGnd', 'industry', 'influenced', 'influencedBy', 'innervates', 'instrument', 'intercommunality', 'interest', 'internationally', 'isHandicappedAccessible', 'isPartOf', 'isPartOfAnatomicalStructure', 'isPartOfMilitaryConflict', 'isPartOfWineRegion', 'isPeerReviewed', 'isbn', 'issn', 'jointCommunity', 'jstor', 'keyPerson', 'knownFor', 'largestSettlement', 'lcc', 'lccn', 'leaderFunction', 'leftChild', 'legalForm', 'license', 'locusSupplementaryData', 'longtype', 'mainInterest', 'mainOrgan', 'mainspan', 'maintainedBy', 'majorIsland', 'management', 'managementPlace', 'managementPosition', 'manufacturer', 'map', 'mass', 'material', 'meaning', 'mediaType', 'mergedIntoParty', 'mgiid', 'militaryUnitSize', 'movement', 'musicBy', 'nationalTopographicSystemMapNumber', 'nerve', 'netIncome', 'nobelLaureates', 'nonFictionSubject', 'notableIdea', 'notableWork', 'notes', 'nrhpType', 'numberOfPiersInWater', 'oclc', 'officerInCharge', 'officialSchoolColour', 'oilSystem', 'oldcode', 'omim', 'openAccessContent', 'operatedBy', 'operatingIncome', 'operatingSystem', 'order', 'orderInOffice', 'organSystem', 'organisation', 'originalLanguage', 'orogeny', 'other', 'otherParty', 'otherServingLines', 'owningCompany', 'owningOrganisation', 'parent', 'parentCompany', 'parentOrganisation', 'parkingInformation', 'part', 'participant', 'passengersUsedSystem', 'pastMember', 'pdb', 'periapsis', 'person', 'personFunction', 'picture', 'pictureFormat', 'portfolio', 'powerType', 'previousInfrastructure', 'primaryFuelType', 'product', 'programCost', 'projectBudgetTotal', 'projectKeyword', 'projectObjective', 'projectParticipant', 'projectReferenceID', 'projectType', 'pubchem', 'publiclyAccessible', 'purpose', 'rebuilder', 'refseq', 'refseqmrna', 'refseqprotein', 'regionServed', 'related', 'relatedMeanOfTransportation', 'relation', 'religiousHeadLabel', 'reservations', 'result', 'review', 'rgbCoordinateBlue', 'rgbCoordinateGreen', 'rgbCoordinateRed', 'rightChild', 'role', 'service', 'sex', 'shareOfAudience', 'shareSource', 'sheading', 'showJudge', 'significantBuilding', 'significantDesign', 'significantProject', 'similar', 'sisterNewspaper', 'smiles', 'soundRecording', 'source', 'sourceConfluence', 'sourceConfluencePlace', 'sourceConfluencePosition', 'sourceConfluenceRegion', 'sourceConfluenceState', 'sourceCountry', 'sourcePlace', 'sourcePosition', 'sourceRegion', 'specialist', 'splitFromParty', 'spokenIn', 'spouse', 'staff', 'structuralSystem', 'subsequentInfrastructure', 'subsequentWork', 'subsidiary', 'tennisSurfaceType', 'testaverage', 'throwingSide', 'training', 'twinCountry', 'type', 'uniprot', 'unitCost', 'unitedStatesNationalBridgeId', 'usedInWar', 'usingCountry', 'vein', 'veneratedIn', 'visitorStatisticsAsOf', 'voiceType', 'winsAtNWIDE', 'youthWing']\n",
      "\n",
      "\n",
      "artist\n",
      "['Artist', 'ArtistDiscography', 'Artwork', 'ClassicalMusicArtist', 'ClassicalMusicComposition', 'FashionDesigner', 'MartialArtist', 'MusicFestival', 'MusicGenre', 'Musical', 'MusicalArtist', 'MusicalWork', 'Painter', 'Philosopher', 'Poem', 'Poet', 'abstract', 'animator', 'artist', 'associatedMusicalArtist', 'choreographer', 'cinematography', 'composer', 'coverArtist', 'designer', 'formerChoreographer', 'gameArtist', 'illustrator', 'musicComposer', 'musicFusionGenre', 'musicSubgenre', 'musicalArtist', 'stylisticOrigin']\n",
      "\n",
      "\n",
      "mountain\n",
      "['Artery', 'Bay', 'Bridge', 'Cave', 'Crater', 'Earthquake', 'Lighthouse', 'Mountain', 'MountainPass', 'MountainRange', 'RailwayTunnel', 'Road', 'RoadJunction', 'RoadTunnel', 'Sea', 'Tunnel', 'Valley', 'Volcano', 'WaterRide', 'WaterwayTunnel', 'artery', 'border', 'bridgeCarries', 'capitalMountain', 'drainsTo', 'governmentMountain', 'highestMountain', 'highwaySystem', 'leftTributary', 'lowestMountain', 'managementMountain', 'meetingRoad', 'mountainRange', 'parentMountainPeak', 'rightTributary', 'riverBranch', 'riverBranchOf', 'routeJunction', 'runwayDesignation', 'runwaySurface', 'sourceConfluenceMountain', 'sourceMountain', 'waterwayThroughTunnel']\n",
      "\n",
      "\n",
      "wine\n",
      "['Beverage', 'Brewery', 'Cheese', 'Grape', 'WineRegion', 'Winery', 'cuisine', 'growingGrape', 'notableWine', 'numberOfVineyards', 'numberOfWineries', 'varietals', 'wineProduced', 'wineRegion']\n",
      "\n",
      "\n",
      "id\n",
      "['bibsysId', 'bnfId', 'bpnId', 'cosparId', 'cpu', 'espnId', 'facilityId', 'ibdbId', 'id', 'imdbId', 'isniId', 'lccnId', 'mbaId', 'meshId', 'ndlId', 'nlaId', 'nssdcId', 'rkdArtistsId', 'selibrId', 'sudocId', 'tvComId', 'ulanId', 'viafId']\n",
      "\n",
      "\n",
      "religion\n",
      "['Religious', 'citizenship', 'ethnicity', 'gender', 'ideology', 'nationality', 'religion']\n",
      "\n",
      "\n",
      "population\n",
      "['density', 'populationDensity', 'populationMetroDensity', 'populationUrbanDensity', 'density', 'populationAsOf', 'populationDensity', 'populationMetro', 'populationMetroDensity', 'populationPlace', 'populationRural', 'populationTotal', 'populationTotalRanking', 'populationUrban', 'populationUrbanDensity', 'totalPopulation']\n",
      "\n",
      "\n",
      "displacement\n",
      "['displacement', 'displacement', 'shipDisplacement']\n",
      "\n",
      "\n",
      "number\n",
      "['volume', 'volume', 'volume', 'brainInfoNumber', 'casNumber', 'casualties', 'circulation', 'ecNumber', 'episodeNumber', 'inflow', 'meshNumber', 'nrhpReferenceNumber', 'number', 'numberBuilt', 'numberOfClassrooms', 'numberOfCompetitors', 'numberOfEmployees', 'numberOfEpisodes', 'numberOfFilms', 'numberOfGoals', 'numberOfIslands', 'numberOfLanes', 'numberOfLawyers', 'numberOfLines', 'numberOfLocations', 'numberOfMembers', 'numberOfOffices', 'numberOfOfficials', 'numberOfPads', 'numberOfPages', 'numberOfParkingSpaces', 'numberOfParticipatingAthletes', 'numberOfParticipatingNations', 'numberOfPlatformLevels', 'numberOfRestaurants', 'numberOfRooms', 'numberOfSeasons', 'numberOfSpans', 'numberOfSports', 'numberOfStaff', 'numberOfStations', 'numberOfStudents', 'numberOfSuites', 'numberOfTeams', 'numberOfTracks', 'numberOfVehicles', 'numberOfVisitors', 'numberOfVisitorsAsOf', 'numberOfVolumes', 'numberOfVolunteers', 'routeNumber', 'schoolNumber', 'seasonNumber', 'serviceNumber', 'shoeNumber', 'spike', 'squadNumber', 'statisticValue', 'toll', 'totalTravellers', 'trackNumber', 'visitorsPercentageChange', 'volume', 'volumeQuote']\n",
      "\n",
      "\n",
      "university\n",
      "['AcademicJournal', 'College', 'EducationalInstitution', 'School', 'University', 'academicAdvisor', 'academicDiscipline', 'alumni', 'campus', 'campusType', 'class', 'classes', 'college', 'doctoralAdvisor', 'doctoralStudent', 'education', 'endowment', 'facultySize', 'formerHighschool', 'geology', 'grades', 'highschool', 'institution', 'notableStudent', 'numberOfDoctoralStudents', 'numberOfGraduateStudents', 'numberOfPostgraduateStudents', 'numberOfUndergraduateStudents', 'offeredClasses', 'philosophicalSchool', 'profession', 'provost', 'salary', 'school', 'schoolBoard', 'schoolPatron', 'sisterCollege', 'teachingStaff', 'tuition', 'university']\n",
      "\n",
      "\n",
      "mouth\n",
      "['Continent', 'Country', 'country', 'kingdom', 'mouthCountry', 'mouthElevation', 'mouthMountain', 'mouthPlace', 'mouthPosition', 'mouthRegion', 'riverMouth']\n",
      "\n",
      "\n",
      "award\n",
      "['Award', 'award', 'contractAward']\n",
      "\n",
      "\n",
      "saint\n",
      "['Baronet', 'Cardinal', 'ChristianBishop', 'Cleric', 'Diocese', 'Monarch', 'Pope', 'Saint', 'beatifiedBy', 'beatifiedDate', 'beatifiedPlace', 'canonizedBy', 'canonizedPlace', 'monarch', 'saint', 'taoiseach']\n",
      "\n",
      "\n",
      "wrestler\n",
      "['AmateurBoxer', 'Bodybuilder', 'Boxer', 'Gymnast', 'Skater', 'SumoWrestler', 'Wrestler']\n",
      "\n",
      "\n",
      "lymph\n",
      "['Lymph', 'lymph']\n",
      "\n",
      "\n",
      "suffix\n",
      "['atcPrefix', 'atcSuffix', 'dorlandsPrefix', 'dorlandsSuffix']\n",
      "\n",
      "\n",
      "magazine\n",
      "['Magazine', 'magazine']\n",
      "\n",
      "\n",
      "height\n",
      "['height', 'height', 'height', 'height', 'height']\n",
      "\n",
      "\n",
      "comic\n",
      "['Actor', 'AdultActor', 'AnimangaCharacter', 'Anime', 'Book', 'Comedian', 'ComedyGroup', 'Comic', 'ComicStrip', 'ComicsCharacter', 'ComicsCreator', 'FictionalCharacter', 'Film', 'FilmFestival', 'HollywoodCartoon', 'Manga', 'Murderer', 'MythologicalFigure', 'Novel', 'PlayboyPlaymate', 'SoapCharacter', 'VoiceActor', 'creator', 'creatorOfDish', 'film', 'genre', 'literaryGenre', 'mythology', 'narrator', 'portrayer', 'starring']\n",
      "\n",
      "\n",
      "name\n",
      "['GivenName', 'Surname', 'abbreviation', 'affiliation', 'alias', 'allegiance', 'birthName', 'brand', 'callsignMeaning', 'colourName', 'commonName', 'connotation', 'depictionDescription', 'description', 'discoverer', 'domain', 'europeanAffiliation', 'faaLocationIdentifier', 'flag', 'flagBearer', 'formerCallsign', 'formerName', 'iataLocationIdentifier', 'icaoLocationIdentifier', 'identificationSymbol', 'ingredient', 'ingredientName', 'internationalAffiliation', 'isPartOfName', 'iupacName', 'leaderName', 'licensee', 'locationIdentifier', 'logo', 'longName', 'mascot', 'meshName', 'motto', 'name', 'nameDay', 'nationalAffiliation', 'origin', 'otherName', 'prominence', 'pseudonym', 'quote', 'routeTypeAbbreviation', 'signature', 'slogan', 'statisticLabel', 'status', 'subtitle', 'symbol', 'synonym', 'teamName', 'variantOf']\n",
      "\n",
      "\n",
      "album\n",
      "['Album', 'Band', 'Guitarist', 'Song', 'album', 'anthem', 'band', 'bandMember', 'lyrics', 'musicalBand', 'royalAnthem']\n",
      "\n",
      "\n",
      "discharge\n",
      "['discharge', 'dischargeAverage', 'maximumDischarge', 'minimumDischarge', 'discharge', 'dischargeAverage', 'maximumDischarge', 'minimumDischarge']\n",
      "\n",
      "\n",
      "jockey\n",
      "['HorseRider', 'HorseTrainer', 'Jockey', 'Racecourse', 'breeder', 'damsire', 'grandsire', 'jockey', 'sire', 'trainer']\n",
      "\n",
      "\n",
      "wheelbase\n",
      "['wheelbase', 'wheelbase']\n",
      "\n",
      "\n",
      "river\n",
      "['Canal', 'Dam', 'Glacier', 'Lake', 'River', 'dam', 'lake', 'river']\n",
      "\n",
      "\n",
      "draft\n",
      "['draft', 'draftPick', 'draftRound', 'draftTeam', 'draftYear', 'shipDraft', 'supplementalDraftRound', 'supplementalDraftYear', 'undraftedYear', 'whaDraft', 'whaDraftTeam']\n",
      "\n",
      "\n",
      "year\n",
      "['timeInSpace', 'EurovisionSongContestEntry', 'Event', 'course', 'HistoricPlace', 'Holiday', 'LaunchPad', 'Place', 'SolarEclipse', 'timeInSpace', 'TimePeriod', 'Year', 'YearInSpaceflight', 'activeYears', 'activeYearsEndDate', 'activeYearsEndYear', 'activeYearsStartDate', 'activeYearsStartYear', 'anniversary', 'averageAnnualGeneration', 'billed', 'birthPlace', 'birthYear', 'buildingEndYear', 'buildingStartYear', 'callSign', 'capitalPlace', 'censusYear', 'centuryBreaks', 'closed', 'closingFilm', 'closingYear', 'countryWithFirstAstronaut', 'countryWithFirstSatellite', 'countryWithFirstSatelliteLaunched', 'countryWithFirstSpaceflight', 'course', 'currentSeason', 'day', 'daylightSavingTimeZone', 'deathPlace', 'deathYear', 'demolitionYear', 'dissolutionYear', 'endPoint', 'endingTheme', 'epoch', 'era', 'eruptionYear', 'event', 'extinctionYear', 'failedLaunches', 'fate', 'feastDay', 'finalFlight', 'finalPublicationYear', 'firstAppearance', 'firstAscentPerson', 'firstAscentYear', 'firstFlight', 'firstFlightEndDate', 'firstFlightStartDate', 'firstLaunchRocket', 'firstPopularVote', 'firstPublicationYear', 'followingEvent', 'formationYear', 'foundationPlace', 'foundingYear', 'introduced', 'lastAppearance', 'lastFlight', 'lastFlightEndDate', 'lastFlightStartDate', 'lastLaunchRocket', 'latestPreviewVersion', 'latestReleaseVersion', 'launchSite', 'launches', 'layingDown', 'maidenVoyage', 'march', 'modelEndYear', 'modelStartYear', 'month', 'namedAfter', 'nextEvent', 'openingFilm', 'openingTheme', 'openingYear', 'originalEndPoint', 'originalStartPoint', 'partialFailedLaunches', 'passengersPerDay', 'passengersPerYear', 'place', 'placeOfBurial', 'precursor', 'premierePlace', 'premiereYear', 'previousEvent', 'previousWork', 'productionEndYear', 'productionStartYear', 'promotion', 'rebuildingYear', 'recordedIn', 'reopeningYear', 'reportingMark', 'restingPlace', 'restingPlacePosition', 'rotationPeriod', 'routeEnd', 'routeEndDirection', 'routeEndLocation', 'routeStart', 'routeStartDirection', 'routeStartLocation', 'secondPopularVote', 'serviceEndYear', 'serviceStartYear', 'shipLaunch', 'startPoint', 'statisticYear', 'successfulLaunches', 'summerAppearances', 'termPeriod', 'time', 'timeInSpace', 'timeZone', 'totalLaunches', 'vehiclesPerDay', 'visitorsPerYear', 'winterAppearances', 'year', 'yearOfConstruction']\n",
      "\n",
      "\n",
      "species\n",
      "['Amphibian', 'Animal', 'Arachnid', 'Bird', 'Conifer', 'Crustacean', 'Cycad', 'Disease', 'Entomologist', 'Fern', 'Fish', 'Fungus', 'Ginkgo', 'GreenAlga', 'Insect', 'Mammal', 'Moss', 'Reptile', 'Species', 'animal', 'biome', 'genus', 'phylum', 'species']\n",
      "\n",
      "\n",
      "switchyards\n",
      "['fuelCapacity', 'BusCompany', 'CareerStation', 'powerOutput', 'FloweringPlant', 'Locomotive', 'Plant', 'PowerStation', 'RailwayLine', 'RailwayStation', 'SpaceStation', 'Station', 'Train', 'agencyStationCode', 'assembly', 'boiler', 'boilerPressure', 'capacity', 'careerStation', 'coolingSystem', 'crews', 'equipment', 'fuelCapacity', 'fuelConsumption', 'fuelSystem', 'installedCapacity', 'operator', 'plant', 'poles', 'powerOutput', 'production', 'railGauge', 'railwayLineUsingTunnel', 'railwayPlatforms', 'railwayRollingStock', 'seatingCapacity', 'servingRailwayLine', 'sisterStation', 'stationStructure', 'supplies', 'transmission', 'typeOfElectrification', 'voltageOfElectrification', 'yearOfElectrification']\n",
      "\n",
      "\n",
      "orbits\n",
      "['Asteroid', 'Constellation', 'Galaxy', 'Planet', 'Spacecraft', 'neighbourConstellations', 'orbits']\n",
      "\n",
      "\n",
      "president\n",
      "['Ambassador', 'Architect', 'Chancellor', 'Congressman', 'Economist', 'Engineer', 'Governor', 'Politician', 'President', 'PrimeMinister', 'Scientist', 'Senator', 'administrator', 'architect', 'associate', 'ceo', 'chairman', 'chairmanTitle', 'chairperson', 'chancellor', 'commander', 'creativeDirector', 'dean', 'deputy', 'director', 'engineer', 'executiveProducer', 'founder', 'fourthCommander', 'generalManager', 'governor', 'governorGeneral', 'head', 'headChef', 'incumbent', 'leader', 'lieutenant', 'manager', 'managerClub', 'nominee', 'notableCommander', 'owner', 'partner', 'patron', 'predecessor', 'president', 'primeMinister', 'principalEngineer', 'projectCoordinator', 'rector', 'secondCommander', 'secretaryGeneral', 'speaker', 'spokesperson', 'successor', 'thirdCommander', 'trustee', 'viceChancellor', 'vicePresident', 'vicePrimeMinister', 'vicePrincipal', 'vicePrincipalLabel']\n",
      "\n",
      "\n",
      "aircraft\n",
      "['Aircraft', 'Airline', 'Astronaut', 'Rocket', 'lowerEarthOrbitPayload', 'Ship', 'SpaceShuttle', 'aircraftAttack', 'aircraftBomber', 'aircraftElectronic', 'aircraftFighter', 'aircraftHelicopter', 'aircraftHelicopterAttack', 'aircraftHelicopterCargo', 'aircraftHelicopterMultirole', 'aircraftHelicopterObservation', 'aircraftHelicopterTransport', 'aircraftHelicopterUtility', 'aircraftInterceptor', 'aircraftPatrol', 'aircraftRecon', 'aircraftTrainer', 'aircraftTransport', 'associatedRocket', 'homeport', 'lowerEarthOrbitPayload', 'maidenFlight', 'maidenFlightRocket', 'mission', 'missions', 'orbitalFlights', 'retiredRocket', 'rocketFunction', 'rocketStages', 'suborbitalFlights']\n",
      "\n",
      "\n"
     ]
    }
   ],
   "source": [
    "for c in range(0, numOfCluster):\n",
    "    print(most_similar_words[c])\n",
    "    print(cluster_to_words[c])\n",
    "    print(\"\\n\")"
   ]
  },
  {
   "cell_type": "code",
   "execution_count": null,
   "metadata": {},
   "outputs": [],
   "source": [
    "question = 'where do I study'\n",
    "keyword='education'\n",
    "word_vector=phrase_vector(keyword, w2v_model)\n",
    "label = kmeans_model.predict(word_vector)[0]\n",
    "clusterWord = most_similar_words[label]\n",
    "clusterWord"
   ]
  },
  {
   "cell_type": "code",
   "execution_count": 347,
   "metadata": {
    "collapsed": true
   },
   "outputs": [],
   "source": [
    "page = wiki_wiki.page('Bonn')\n",
    "#print_sections(page.sections)"
   ]
  },
  {
   "cell_type": "code",
   "execution_count": 342,
   "metadata": {
    "collapsed": true
   },
   "outputs": [],
   "source": [
    "def getTopSection(sections, clusterWord):\n",
    "    section_title=[]\n",
    "    for s in sections:\n",
    "        section_title.append([s.title, phrase_similarity(clusterWord, s.title)])\n",
    "    simi_list = [i[1] for i in section_title]\n",
    "    index = simi_list.index(max(simi_list))\n",
    "    selected_section = sections[index]\n",
    "    text = sections[index].text\n",
    "    return selected_section, text"
   ]
  },
  {
   "cell_type": "code",
   "execution_count": 350,
   "metadata": {},
   "outputs": [
    {
     "name": "stdout",
     "output_type": "stream",
     "text": [
      "Education section has 1 subsections\n",
      "==================================================\n",
      "summary for page: \n",
      "The Federal City of Bonn (German pronunciation: [ˈbɔn] ( listen)) is a city on the banks of the Rhine in the German state of North Rhine-Westphalia, with a population of over 300,000. About 24 km (15 mi) south-southeast of Cologne, Bonn is in the southernmost part of the Rhine-Ruhr region, Germany's largest metropolitan area, with over 11 million inhabitants.\n",
      "Because of a political compromise following German reunification, the German state maintains a substantial presence in Bonn. Bonn is the secondary seat of the President, the Chancellor, the Bundesrat and the primary seat of six federal government ministries and twenty federal authorities. The unique title of Federal City (German: Bundesstadt) reflects its important political status within Germany.\n",
      "Founded in the 1st century BC as a Roman settlement, Bonn is one of Germany's oldest cities. From 1597 to 1794, Bonn was the capital of the Electorate of Cologne, and residence of the Archbishops and Prince-electors of Cologne. Composer Ludwig van Beethoven was born in Bonn in 1770. From 1949 to 1990, Bonn was the provisional capital (\"temporary seat of the Federal institutions\") of West Germany, and Germany's present constitution, the Basic Law, was declared in the city in 1949. From 1990 to 1999, Bonn served as the seat of government – but no longer capital – of reunited Germany.\n",
      "The headquarters of Deutsche Post DHL and Deutsche Telekom, both DAX-listed corporations, are in Bonn. The city is home to the University of Bonn and a total of 20 United Nations institutions, including headquarters for Secretariat of the UN Framework Convention Climate Change (UNFCCC), the Secretariat of the UN Convention to Combat Desertification (UNCCD), and the UN Volunteers programme.\n",
      "--------------------------------------------------\n",
      "summary for subsection:  Education\n",
      "The Rheinische Friedrich Wilhelms Universität Bonn (University of Bonn) is one of the largest universities in Germany. It is also the location of the German research institute Deutsche Forschungsgemeinschaft (DFG) offices and of the German Academic Exchange Service (Deutscher Akademischer Austauschdienst – DAAD).\n"
     ]
    }
   ],
   "source": [
    "selected_section, text_section =getTopSection(page.sections, clusterWord)\n",
    "print(selected_section.title, \"section has\", len(selected_section.sections), \"subsections\")\n",
    "print('='*50)\n",
    "summary = []\n",
    "if len(selected_section.sections)<=1:\n",
    "    summary.append(page.summary)\n",
    "    summary.append(text_section)\n",
    "    \n",
    "else:\n",
    "    selected_subsection, text_subsection= getTopSection(selected_section.sections, keyword)\n",
    "    summary.append(page.summary)\n",
    "    summary.append(text_subsection)\n",
    "print(\"summary for page: \")\n",
    "print(summary[0])\n",
    "print('-'*50)\n",
    "print(\"summary for subsection: \", selected_section.title )\n",
    "print(summary[1])"
   ]
  },
  {
   "cell_type": "code",
   "execution_count": null,
   "metadata": {
    "collapsed": true
   },
   "outputs": [],
   "source": []
  }
 ],
 "metadata": {
  "kernelspec": {
   "display_name": "Python 3",
   "language": "python",
   "name": "python3"
  },
  "language_info": {
   "codemirror_mode": {
    "name": "ipython",
    "version": 3
   },
   "file_extension": ".py",
   "mimetype": "text/x-python",
   "name": "python",
   "nbconvert_exporter": "python",
   "pygments_lexer": "ipython3",
   "version": "3.6.1"
  }
 },
 "nbformat": 4,
 "nbformat_minor": 2
}
